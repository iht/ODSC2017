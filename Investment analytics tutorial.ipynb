{
 "cells": [
  {
   "cell_type": "markdown",
   "metadata": {},
   "source": [
    "# Investment analytics tutorial"
   ]
  },
  {
   "cell_type": "markdown",
   "metadata": {},
   "source": [
    "A couple of first points:\n",
    "    \n",
    "1. Thank you for being here\n",
    "2. This is an opportunity to learn together and share best practices and preferences, not a lecture\n",
    "3. I am here on a voluntary basis, delighted to be here, and will remain available in the future if I can assist you:\n",
    "m.a.agachi[at]gmail.com\n",
    "4. Tutorial covers investment analytics as used in practice by many investment firms. Designed for a beginner to\n",
    "intermediary level audience wishing to implement them in python/pandas. What motivated this tutorial.\n",
    "5. Python packages and pandas still lack many functions used in finance. Where this is the case, we will implement them manually here.\n",
    "6. As we are a data science community, I will comment the code/packages/functions here and there.\n",
    "7. My usual rant on open data"
   ]
  },
  {
   "cell_type": "markdown",
   "metadata": {},
   "source": [
    "What is an investment?\n",
    "\n",
    "> Investment is an initial forfeit of something we value in exchange for the anticipated \n",
    "> benefit of getting back more than we put in. The differ- ence between what we put in and \n",
    "> what we got back is the return; we invest in order to yield this return.\n",
    "\n",
    "> Bruce Feibel\n",
    "\n",
    "Why investment analytics?\n",
    "\n",
    "These are your road indicators as an investor in the alternative space. Without robust analysis you are blind, as an investor and as an allocator.\n",
    "\n",
    "Three key drivers:\n",
    "\n",
    "1. Few people in the industry know these concepts inside out\n",
    "2. Can help industry with its identity crisis\n",
    "3. A move towards quality of performance rather than just performance"
   ]
  },
  {
   "cell_type": "markdown",
   "metadata": {},
   "source": [
    "What are investment analytics? \n",
    "\n",
    "The study of time series. Everything you do as an operator on the markets in finance \n",
    "is time dependent. Time is a constraint in your input, and a determinant of your output. These statistics are time sensitive.\n",
    "\n",
    "> \"The calculation of return, risk, and derived statistics stemming from the periodic change \n",
    "> in market value of portfolio positions and transactions made into and within a portfolio, \n",
    "> for use in the evaluation of historical fund or manager performance.\"\n",
    "\n",
    "> Bruce Feibel"
   ]
  },
  {
   "cell_type": "markdown",
   "metadata": {},
   "source": [
    "Backward looking or forward looking?\n",
    "\n",
    "The same for all asset classes and strategies?"
   ]
  },
  {
   "cell_type": "markdown",
   "metadata": {},
   "source": [
    "Overview:\n",
    "1. Performance and basic statistical concepts\n",
    "2. Risk adjusted performance analysis\n",
    "3. Skill and performance attribution"
   ]
  },
  {
   "cell_type": "markdown",
   "metadata": {},
   "source": [
    "## Performance and basic statistical concepts - The value of time\n",
    "\n",
    "Key question in this section - How has the value of the portfolio changed over time"
   ]
  },
  {
   "cell_type": "code",
   "execution_count": 6,
   "metadata": {
    "collapsed": true
   },
   "outputs": [],
   "source": [
    "#let's import our packages\n",
    "import pandas as pd\n",
    "import numpy as np\n",
    "import seaborn as sns\n",
    "import scipy\n",
    "import math\n",
    "import statsmodels.formula.api as smf\n",
    "import statsmodels.stats.multicomp as multi\n",
    "import statsmodels.api as sm\n",
    "from scipy.stats.stats import pearsonr\n",
    "%matplotlib inline"
   ]
  },
  {
   "cell_type": "code",
   "execution_count": 7,
   "metadata": {},
   "outputs": [],
   "source": [
    "#cd Dropbox/Investment performance analysis presentation/presentation"
   ]
  },
  {
   "cell_type": "markdown",
   "metadata": {},
   "source": [
    "You can download this dataset at this following address:\n",
    "http://pages.stern.nyu.edu/~adamodar/New_Home_Page/datafile/histretSP.html\n",
    "\n",
    "You will then need to open it and save it as a csv on your computer, renaming the file \"S&P 500.csv\"\n",
    "\n",
    "Many thanks to Aswath Damodaran, not only for this dataset but more generally for his terrific ressources, openly available."
   ]
  },
  {
   "cell_type": "code",
   "execution_count": 19,
   "metadata": {},
   "outputs": [],
   "source": [
    "sp500 = pd.read_csv(\"S&P 500.csv\")"
   ]
  },
  {
   "cell_type": "code",
   "execution_count": 20,
   "metadata": {},
   "outputs": [
    {
     "data": {
      "text/html": [
       "<div>\n",
       "<style>\n",
       "    .dataframe thead tr:only-child th {\n",
       "        text-align: right;\n",
       "    }\n",
       "\n",
       "    .dataframe thead th {\n",
       "        text-align: left;\n",
       "    }\n",
       "\n",
       "    .dataframe tbody tr th {\n",
       "        vertical-align: top;\n",
       "    }\n",
       "</style>\n",
       "<table border=\"1\" class=\"dataframe\">\n",
       "  <thead>\n",
       "    <tr style=\"text-align: right;\">\n",
       "      <th></th>\n",
       "      <th>Year</th>\n",
       "      <th>Date</th>\n",
       "      <th>Unnamed: 2</th>\n",
       "      <th>Unnamed: 3</th>\n",
       "      <th>Unnamed: 4</th>\n",
       "    </tr>\n",
       "  </thead>\n",
       "  <tbody>\n",
       "    <tr>\n",
       "      <th>0</th>\n",
       "      <td>1928</td>\n",
       "      <td>43.81%</td>\n",
       "      <td>NaN</td>\n",
       "      <td>NaN</td>\n",
       "      <td>NaN</td>\n",
       "    </tr>\n",
       "    <tr>\n",
       "      <th>1</th>\n",
       "      <td>1929</td>\n",
       "      <td>-8.30%</td>\n",
       "      <td>NaN</td>\n",
       "      <td>NaN</td>\n",
       "      <td>NaN</td>\n",
       "    </tr>\n",
       "    <tr>\n",
       "      <th>2</th>\n",
       "      <td>1930</td>\n",
       "      <td>-25.12%</td>\n",
       "      <td>NaN</td>\n",
       "      <td>NaN</td>\n",
       "      <td>NaN</td>\n",
       "    </tr>\n",
       "    <tr>\n",
       "      <th>3</th>\n",
       "      <td>1931</td>\n",
       "      <td>-43.84%</td>\n",
       "      <td>NaN</td>\n",
       "      <td>NaN</td>\n",
       "      <td>NaN</td>\n",
       "    </tr>\n",
       "    <tr>\n",
       "      <th>4</th>\n",
       "      <td>1932</td>\n",
       "      <td>-8.64%</td>\n",
       "      <td>NaN</td>\n",
       "      <td>NaN</td>\n",
       "      <td>NaN</td>\n",
       "    </tr>\n",
       "  </tbody>\n",
       "</table>\n",
       "</div>"
      ],
      "text/plain": [
       "   Year     Date  Unnamed: 2  Unnamed: 3  Unnamed: 4\n",
       "0  1928   43.81%         NaN         NaN         NaN\n",
       "1  1929   -8.30%         NaN         NaN         NaN\n",
       "2  1930  -25.12%         NaN         NaN         NaN\n",
       "3  1931  -43.84%         NaN         NaN         NaN\n",
       "4  1932   -8.64%         NaN         NaN         NaN"
      ]
     },
     "execution_count": 20,
     "metadata": {},
     "output_type": "execute_result"
    }
   ],
   "source": [
    "sp500.head()"
   ]
  },
  {
   "cell_type": "code",
   "execution_count": 21,
   "metadata": {
    "collapsed": true
   },
   "outputs": [],
   "source": [
    "#let's get rid of the extra columns getting created in the conversion process\n",
    "sp501 = sp500[['Year', 'Date']]"
   ]
  },
  {
   "cell_type": "code",
   "execution_count": 22,
   "metadata": {},
   "outputs": [
    {
     "data": {
      "text/html": [
       "<div>\n",
       "<style>\n",
       "    .dataframe thead tr:only-child th {\n",
       "        text-align: right;\n",
       "    }\n",
       "\n",
       "    .dataframe thead th {\n",
       "        text-align: left;\n",
       "    }\n",
       "\n",
       "    .dataframe tbody tr th {\n",
       "        vertical-align: top;\n",
       "    }\n",
       "</style>\n",
       "<table border=\"1\" class=\"dataframe\">\n",
       "  <thead>\n",
       "    <tr style=\"text-align: right;\">\n",
       "      <th></th>\n",
       "      <th>Year</th>\n",
       "      <th>Date</th>\n",
       "    </tr>\n",
       "  </thead>\n",
       "  <tbody>\n",
       "    <tr>\n",
       "      <th>0</th>\n",
       "      <td>1928</td>\n",
       "      <td>43.81%</td>\n",
       "    </tr>\n",
       "    <tr>\n",
       "      <th>1</th>\n",
       "      <td>1929</td>\n",
       "      <td>-8.30%</td>\n",
       "    </tr>\n",
       "    <tr>\n",
       "      <th>2</th>\n",
       "      <td>1930</td>\n",
       "      <td>-25.12%</td>\n",
       "    </tr>\n",
       "    <tr>\n",
       "      <th>3</th>\n",
       "      <td>1931</td>\n",
       "      <td>-43.84%</td>\n",
       "    </tr>\n",
       "    <tr>\n",
       "      <th>4</th>\n",
       "      <td>1932</td>\n",
       "      <td>-8.64%</td>\n",
       "    </tr>\n",
       "  </tbody>\n",
       "</table>\n",
       "</div>"
      ],
      "text/plain": [
       "   Year     Date\n",
       "0  1928   43.81%\n",
       "1  1929   -8.30%\n",
       "2  1930  -25.12%\n",
       "3  1931  -43.84%\n",
       "4  1932   -8.64%"
      ]
     },
     "execution_count": 22,
     "metadata": {},
     "output_type": "execute_result"
    }
   ],
   "source": [
    "sp501.head()"
   ]
  },
  {
   "cell_type": "code",
   "execution_count": 23,
   "metadata": {},
   "outputs": [],
   "source": [
    "#let's turn the percentages, which pandas now reads as strings, into floats\n",
    "returns = [float(x[:-1]) for x in sp501['Date']]"
   ]
  },
  {
   "cell_type": "code",
   "execution_count": 24,
   "metadata": {},
   "outputs": [
    {
     "name": "stderr",
     "output_type": "stream",
     "text": [
      "/Users/iht/anaconda3/lib/python3.6/site-packages/ipykernel_launcher.py:1: SettingWithCopyWarning: \n",
      "A value is trying to be set on a copy of a slice from a DataFrame.\n",
      "Try using .loc[row_indexer,col_indexer] = value instead\n",
      "\n",
      "See the caveats in the documentation: http://pandas.pydata.org/pandas-docs/stable/indexing.html#indexing-view-versus-copy\n",
      "  \"\"\"Entry point for launching an IPython kernel.\n"
     ]
    }
   ],
   "source": [
    "sp501['Date'] = returns"
   ]
  },
  {
   "cell_type": "code",
   "execution_count": 25,
   "metadata": {
    "collapsed": true
   },
   "outputs": [],
   "source": [
    "sp501.columns = ['Year', 'Value']"
   ]
  },
  {
   "cell_type": "code",
   "execution_count": 26,
   "metadata": {},
   "outputs": [
    {
     "data": {
      "text/html": [
       "<div>\n",
       "<style>\n",
       "    .dataframe thead tr:only-child th {\n",
       "        text-align: right;\n",
       "    }\n",
       "\n",
       "    .dataframe thead th {\n",
       "        text-align: left;\n",
       "    }\n",
       "\n",
       "    .dataframe tbody tr th {\n",
       "        vertical-align: top;\n",
       "    }\n",
       "</style>\n",
       "<table border=\"1\" class=\"dataframe\">\n",
       "  <thead>\n",
       "    <tr style=\"text-align: right;\">\n",
       "      <th></th>\n",
       "      <th>Year</th>\n",
       "      <th>Value</th>\n",
       "    </tr>\n",
       "  </thead>\n",
       "  <tbody>\n",
       "    <tr>\n",
       "      <th>0</th>\n",
       "      <td>1928</td>\n",
       "      <td>43.81</td>\n",
       "    </tr>\n",
       "    <tr>\n",
       "      <th>1</th>\n",
       "      <td>1929</td>\n",
       "      <td>-8.30</td>\n",
       "    </tr>\n",
       "    <tr>\n",
       "      <th>2</th>\n",
       "      <td>1930</td>\n",
       "      <td>-25.12</td>\n",
       "    </tr>\n",
       "    <tr>\n",
       "      <th>3</th>\n",
       "      <td>1931</td>\n",
       "      <td>-43.84</td>\n",
       "    </tr>\n",
       "    <tr>\n",
       "      <th>4</th>\n",
       "      <td>1932</td>\n",
       "      <td>-8.64</td>\n",
       "    </tr>\n",
       "  </tbody>\n",
       "</table>\n",
       "</div>"
      ],
      "text/plain": [
       "   Year  Value\n",
       "0  1928  43.81\n",
       "1  1929  -8.30\n",
       "2  1930 -25.12\n",
       "3  1931 -43.84\n",
       "4  1932  -8.64"
      ]
     },
     "execution_count": 26,
     "metadata": {},
     "output_type": "execute_result"
    }
   ],
   "source": [
    "sp501.head()"
   ]
  },
  {
   "cell_type": "code",
   "execution_count": 27,
   "metadata": {},
   "outputs": [
    {
     "name": "stderr",
     "output_type": "stream",
     "text": [
      "/Users/iht/anaconda3/lib/python3.6/site-packages/ipykernel_launcher.py:1: SettingWithCopyWarning: \n",
      "A value is trying to be set on a copy of a slice from a DataFrame.\n",
      "Try using .loc[row_indexer,col_indexer] = value instead\n",
      "\n",
      "See the caveats in the documentation: http://pandas.pydata.org/pandas-docs/stable/indexing.html#indexing-view-versus-copy\n",
      "  \"\"\"Entry point for launching an IPython kernel.\n"
     ]
    }
   ],
   "source": [
    "sp501['Year'] = pd.to_numeric(sp501['Year'], errors='coerce')"
   ]
  },
  {
   "cell_type": "code",
   "execution_count": 28,
   "metadata": {},
   "outputs": [
    {
     "name": "stderr",
     "output_type": "stream",
     "text": [
      "/Users/iht/anaconda3/lib/python3.6/site-packages/ipykernel_launcher.py:1: SettingWithCopyWarning: \n",
      "A value is trying to be set on a copy of a slice from a DataFrame.\n",
      "Try using .loc[row_indexer,col_indexer] = value instead\n",
      "\n",
      "See the caveats in the documentation: http://pandas.pydata.org/pandas-docs/stable/indexing.html#indexing-view-versus-copy\n",
      "  \"\"\"Entry point for launching an IPython kernel.\n"
     ]
    }
   ],
   "source": [
    "sp501['Value'] = pd.to_numeric(sp501['Value'])"
   ]
  },
  {
   "cell_type": "code",
   "execution_count": 34,
   "metadata": {},
   "outputs": [
    {
     "data": {
      "text/plain": [
       "<matplotlib.axes._subplots.AxesSubplot at 0x117421390>"
      ]
     },
     "execution_count": 34,
     "metadata": {},
     "output_type": "execute_result"
    },
    {
     "data": {
      "image/png": "[encoded data removed]",
      "text/plain": [
       "<matplotlib.figure.Figure at 0x1173ffc50>"
      ]
     },
     "metadata": {},
     "output_type": "display_data"
    }
   ],
   "source": [
    "#Let's take a peek at the annual returns of the S&P 500 since 1928\n",
    "sp501.set_index('Year').plot(figsize=(10,6), grid=True)"
   ]
  },
  {
   "cell_type": "code",
   "execution_count": 35,
   "metadata": {},
   "outputs": [
    {
     "data": {
      "text/plain": [
       "11.415842696629218"
      ]
     },
     "execution_count": 35,
     "metadata": {},
     "output_type": "execute_result"
    }
   ],
   "source": [
    "#average returns\n",
    "sp_average_return = sp501['Value'].mean()\n",
    "sp_average_return"
   ]
  },
  {
   "cell_type": "markdown",
   "metadata": {},
   "source": [
    "Two concepts around the mean:\n",
    "    \n",
    "1. Arithmetic mean\n",
    "\n",
    "2. Geometric mean"
   ]
  },
  {
   "cell_type": "markdown",
   "metadata": {},
   "source": [
    "$arithmetic \\ mean \\ return = \\frac{sum\\ of\\ returns\\ across\\ periods}{number \\ of \\ periods}$"
   ]
  },
  {
   "cell_type": "markdown",
   "metadata": {},
   "source": [
    "$geometric\\ mean\\ return = (\\sqrt[N]{(1+cumulative\\ return)} - 1) * 100$"
   ]
  },
  {
   "cell_type": "code",
   "execution_count": 36,
   "metadata": {},
   "outputs": [
    {
     "data": {
      "text/plain": [
       "9.525016349238058"
      ]
     },
     "execution_count": 36,
     "metadata": {},
     "output_type": "execute_result"
    }
   ],
   "source": [
    "#let's write a function to calculate the geometric mean\n",
    "\n",
    "def geomean(x):\n",
    "    product = 1\n",
    "    for i in x:\n",
    "        product *= (1 + i/100)\n",
    "    return ((product ** (1 / len(x)))-1) * 100\n",
    "\n",
    "geometric_mean = geomean(sp501['Value'])\n",
    "geometric_mean"
   ]
  },
  {
   "cell_type": "markdown",
   "metadata": {},
   "source": [
    "Why is the geometric mean lower than the arithmetic mean?\n",
    "\n",
    "Because of compound interest. With the arithmetic mean, you are measuring the average on compound interest too, so you are overvaluing your returns. The geometric mean corrects for that effect, providing a lower average return."
   ]
  },
  {
   "cell_type": "markdown",
   "metadata": {},
   "source": [
    "Two more concepts to discuss: Time weighted vs Money weighted value of an investment\n",
    "\n",
    "1. The investor who could not understand why his AUM are not as high as a fund's returns would suggest.\n",
    "\n",
    "2. Why investors rarely make as much money on their investments as funds' returns would suggest.\n",
    "\n",
    "Which one are we focusing on here and why?\n",
    "\n",
    "On investment analytics, we focus on time weighted of an investment. Because we compare products or portfolios, and we want to isolate the effect of the manager. You going to remove the money weighted value of the investment. If a product has a much higher money volume, it would be over represented in the comparison.\n",
    "\n",
    "! Bank Administration Institute, Measuring the Investment Performance of Pension Funds for the Purpose of Inter-Fund Comparison, Bank Administration Institute, Park Ridge, Illinois 1968."
   ]
  },
  {
   "cell_type": "code",
   "execution_count": 38,
   "metadata": {},
   "outputs": [
    {
     "data": {
      "text/plain": [
       "(-43.840000000000003, 52.560000000000002)"
      ]
     },
     "execution_count": 38,
     "metadata": {},
     "output_type": "execute_result"
    }
   ],
   "source": [
    "#Now we have the mean return over this period. Can we therefore expect such a return next year?\n",
    "#Let's look at the range of the one year rolling returns of the S&P 500 over this period?\n",
    "\n",
    "sp_average_max = sp501['Value'].max()\n",
    "sp_average_min = sp501['Value'].min()\n",
    "sp_average_min, sp_average_max"
   ]
  },
  {
   "cell_type": "markdown",
   "metadata": {},
   "source": [
    "The answer would be no. We observe a very large variation - what measure would allow us to capture this?"
   ]
  },
  {
   "cell_type": "markdown",
   "metadata": {},
   "source": [
    "Standard deviation\n",
    "\n",
    "The standard deviation represents how far, in average, the observations were from their observed mean.\n",
    "In finance it is the fundamental concept of volatility.\n",
    "\n",
    "Three problems with the standard deviation.\n",
    "\n",
    "1. Often wrongly used.\n",
    "\n",
    "**It is not a measure of risk, but an indication of consistency over time (periods).**\n",
    "\n",
    "Two funds with 20 years track records:\n",
    "    a. average returns of -5% and vol of 1\n",
    "    b. average returns of 10% and vol of 7"
   ]
  },
  {
   "cell_type": "code",
   "execution_count": 39,
   "metadata": {},
   "outputs": [
    {
     "data": {
      "text/html": [
       "<div>\n",
       "<style>\n",
       "    .dataframe thead tr:only-child th {\n",
       "        text-align: right;\n",
       "    }\n",
       "\n",
       "    .dataframe thead th {\n",
       "        text-align: left;\n",
       "    }\n",
       "\n",
       "    .dataframe tbody tr th {\n",
       "        vertical-align: top;\n",
       "    }\n",
       "</style>\n",
       "<table border=\"1\" class=\"dataframe\">\n",
       "  <thead>\n",
       "    <tr style=\"text-align: right;\">\n",
       "      <th></th>\n",
       "      <th>Year</th>\n",
       "      <th>Fund A</th>\n",
       "      <th>Fund B</th>\n",
       "    </tr>\n",
       "  </thead>\n",
       "  <tbody>\n",
       "    <tr>\n",
       "      <th>0</th>\n",
       "      <td>2012</td>\n",
       "      <td>5</td>\n",
       "      <td>10</td>\n",
       "    </tr>\n",
       "    <tr>\n",
       "      <th>1</th>\n",
       "      <td>2013</td>\n",
       "      <td>5</td>\n",
       "      <td>0</td>\n",
       "    </tr>\n",
       "    <tr>\n",
       "      <th>2</th>\n",
       "      <td>2014</td>\n",
       "      <td>5</td>\n",
       "      <td>10</td>\n",
       "    </tr>\n",
       "    <tr>\n",
       "      <th>3</th>\n",
       "      <td>2015</td>\n",
       "      <td>5</td>\n",
       "      <td>0</td>\n",
       "    </tr>\n",
       "    <tr>\n",
       "      <th>4</th>\n",
       "      <td>2016</td>\n",
       "      <td>5</td>\n",
       "      <td>10</td>\n",
       "    </tr>\n",
       "    <tr>\n",
       "      <th>5</th>\n",
       "      <td>2017</td>\n",
       "      <td>5</td>\n",
       "      <td>0</td>\n",
       "    </tr>\n",
       "  </tbody>\n",
       "</table>\n",
       "</div>"
      ],
      "text/plain": [
       "   Year  Fund A  Fund B\n",
       "0  2012       5      10\n",
       "1  2013       5       0\n",
       "2  2014       5      10\n",
       "3  2015       5       0\n",
       "4  2016       5      10\n",
       "5  2017       5       0"
      ]
     },
     "execution_count": 39,
     "metadata": {},
     "output_type": "execute_result"
    }
   ],
   "source": [
    "two_funds = pd.read_csv(\"Two funds.csv\")\n",
    "two_funds"
   ]
  },
  {
   "cell_type": "code",
   "execution_count": 40,
   "metadata": {},
   "outputs": [
    {
     "data": {
      "text/plain": [
       "19.702879162527395"
      ]
     },
     "execution_count": 40,
     "metadata": {},
     "output_type": "execute_result"
    }
   ],
   "source": [
    "sp_average_std = sp501['Value'].std()\n",
    "sp_average_std"
   ]
  },
  {
   "cell_type": "markdown",
   "metadata": {},
   "source": [
    "Question: can volatility ever be negative, and if so under what circumstances?\n",
    "\n",
    "No. Volatilyt measures movement, movements can be negative, but volatility is either zero (no movement at all), or positive because there are movements."
   ]
  },
  {
   "cell_type": "markdown",
   "metadata": {},
   "source": [
    "In investing and therefore in risk analytics, time is always a parameter. Let's see how.\n",
    "\n",
    "Go to \n",
    "https://finance.yahoo.com/quote/^GSPC/history?period1=1348700400&period2=1506466800&interval=1d&filter=history&frequency=1d\n",
    "and download the historical prices for the S&P 500, daily and monthly. In this tutorial the date range was September 26 2012-September 26 2017\n",
    "\n",
    "I kept here the files' original names."
   ]
  },
  {
   "cell_type": "code",
   "execution_count": 43,
   "metadata": {
    "collapsed": true
   },
   "outputs": [],
   "source": [
    "sp500_daily = pd.read_csv('GSPC_daily.csv')\n",
    "sp500_monthly = pd.read_csv('GSPC_monthly.csv')"
   ]
  },
  {
   "cell_type": "code",
   "execution_count": 44,
   "metadata": {},
   "outputs": [
    {
     "data": {
      "text/html": [
       "<div>\n",
       "<style>\n",
       "    .dataframe thead tr:only-child th {\n",
       "        text-align: right;\n",
       "    }\n",
       "\n",
       "    .dataframe thead th {\n",
       "        text-align: left;\n",
       "    }\n",
       "\n",
       "    .dataframe tbody tr th {\n",
       "        vertical-align: top;\n",
       "    }\n",
       "</style>\n",
       "<table border=\"1\" class=\"dataframe\">\n",
       "  <thead>\n",
       "    <tr style=\"text-align: right;\">\n",
       "      <th></th>\n",
       "      <th>Date</th>\n",
       "      <th>Open</th>\n",
       "      <th>High</th>\n",
       "      <th>Low</th>\n",
       "      <th>Close</th>\n",
       "      <th>Adj Close</th>\n",
       "      <th>Volume</th>\n",
       "    </tr>\n",
       "  </thead>\n",
       "  <tbody>\n",
       "    <tr>\n",
       "      <th>0</th>\n",
       "      <td>2012-09-26</td>\n",
       "      <td>1441.599976</td>\n",
       "      <td>1441.599976</td>\n",
       "      <td>1430.530029</td>\n",
       "      <td>1433.319946</td>\n",
       "      <td>1433.319946</td>\n",
       "      <td>3565380000</td>\n",
       "    </tr>\n",
       "    <tr>\n",
       "      <th>1</th>\n",
       "      <td>2012-09-27</td>\n",
       "      <td>1433.359985</td>\n",
       "      <td>1450.199951</td>\n",
       "      <td>1433.359985</td>\n",
       "      <td>1447.150024</td>\n",
       "      <td>1447.150024</td>\n",
       "      <td>3150330000</td>\n",
       "    </tr>\n",
       "    <tr>\n",
       "      <th>2</th>\n",
       "      <td>2012-09-28</td>\n",
       "      <td>1447.130005</td>\n",
       "      <td>1447.130005</td>\n",
       "      <td>1435.599976</td>\n",
       "      <td>1440.670044</td>\n",
       "      <td>1440.670044</td>\n",
       "      <td>3509230000</td>\n",
       "    </tr>\n",
       "    <tr>\n",
       "      <th>3</th>\n",
       "      <td>2012-10-01</td>\n",
       "      <td>1440.900024</td>\n",
       "      <td>1457.140015</td>\n",
       "      <td>1440.900024</td>\n",
       "      <td>1444.489990</td>\n",
       "      <td>1444.489990</td>\n",
       "      <td>3505080000</td>\n",
       "    </tr>\n",
       "    <tr>\n",
       "      <th>4</th>\n",
       "      <td>2012-10-02</td>\n",
       "      <td>1444.989990</td>\n",
       "      <td>1451.520020</td>\n",
       "      <td>1439.010010</td>\n",
       "      <td>1445.750000</td>\n",
       "      <td>1445.750000</td>\n",
       "      <td>3321790000</td>\n",
       "    </tr>\n",
       "  </tbody>\n",
       "</table>\n",
       "</div>"
      ],
      "text/plain": [
       "         Date         Open         High          Low        Close  \\\n",
       "0  2012-09-26  1441.599976  1441.599976  1430.530029  1433.319946   \n",
       "1  2012-09-27  1433.359985  1450.199951  1433.359985  1447.150024   \n",
       "2  2012-09-28  1447.130005  1447.130005  1435.599976  1440.670044   \n",
       "3  2012-10-01  1440.900024  1457.140015  1440.900024  1444.489990   \n",
       "4  2012-10-02  1444.989990  1451.520020  1439.010010  1445.750000   \n",
       "\n",
       "     Adj Close      Volume  \n",
       "0  1433.319946  3565380000  \n",
       "1  1447.150024  3150330000  \n",
       "2  1440.670044  3509230000  \n",
       "3  1444.489990  3505080000  \n",
       "4  1445.750000  3321790000  "
      ]
     },
     "execution_count": 44,
     "metadata": {},
     "output_type": "execute_result"
    }
   ],
   "source": [
    "sp500_daily.head()"
   ]
  },
  {
   "cell_type": "code",
   "execution_count": 45,
   "metadata": {},
   "outputs": [
    {
     "data": {
      "text/html": [
       "<div>\n",
       "<style>\n",
       "    .dataframe thead tr:only-child th {\n",
       "        text-align: right;\n",
       "    }\n",
       "\n",
       "    .dataframe thead th {\n",
       "        text-align: left;\n",
       "    }\n",
       "\n",
       "    .dataframe tbody tr th {\n",
       "        vertical-align: top;\n",
       "    }\n",
       "</style>\n",
       "<table border=\"1\" class=\"dataframe\">\n",
       "  <thead>\n",
       "    <tr style=\"text-align: right;\">\n",
       "      <th></th>\n",
       "      <th>Date</th>\n",
       "      <th>Open</th>\n",
       "      <th>High</th>\n",
       "      <th>Low</th>\n",
       "      <th>Close</th>\n",
       "      <th>Adj Close</th>\n",
       "      <th>Volume</th>\n",
       "      <th>daily_returns</th>\n",
       "    </tr>\n",
       "  </thead>\n",
       "  <tbody>\n",
       "    <tr>\n",
       "      <th>0</th>\n",
       "      <td>2012-09-26</td>\n",
       "      <td>1441.599976</td>\n",
       "      <td>1441.599976</td>\n",
       "      <td>1430.530029</td>\n",
       "      <td>1433.319946</td>\n",
       "      <td>1433.319946</td>\n",
       "      <td>3565380000</td>\n",
       "      <td>NaN</td>\n",
       "    </tr>\n",
       "    <tr>\n",
       "      <th>1</th>\n",
       "      <td>2012-09-27</td>\n",
       "      <td>1433.359985</td>\n",
       "      <td>1450.199951</td>\n",
       "      <td>1433.359985</td>\n",
       "      <td>1447.150024</td>\n",
       "      <td>1447.150024</td>\n",
       "      <td>3150330000</td>\n",
       "      <td>0.009649</td>\n",
       "    </tr>\n",
       "    <tr>\n",
       "      <th>2</th>\n",
       "      <td>2012-09-28</td>\n",
       "      <td>1447.130005</td>\n",
       "      <td>1447.130005</td>\n",
       "      <td>1435.599976</td>\n",
       "      <td>1440.670044</td>\n",
       "      <td>1440.670044</td>\n",
       "      <td>3509230000</td>\n",
       "      <td>-0.004478</td>\n",
       "    </tr>\n",
       "    <tr>\n",
       "      <th>3</th>\n",
       "      <td>2012-10-01</td>\n",
       "      <td>1440.900024</td>\n",
       "      <td>1457.140015</td>\n",
       "      <td>1440.900024</td>\n",
       "      <td>1444.489990</td>\n",
       "      <td>1444.489990</td>\n",
       "      <td>3505080000</td>\n",
       "      <td>0.002652</td>\n",
       "    </tr>\n",
       "    <tr>\n",
       "      <th>4</th>\n",
       "      <td>2012-10-02</td>\n",
       "      <td>1444.989990</td>\n",
       "      <td>1451.520020</td>\n",
       "      <td>1439.010010</td>\n",
       "      <td>1445.750000</td>\n",
       "      <td>1445.750000</td>\n",
       "      <td>3321790000</td>\n",
       "      <td>0.000872</td>\n",
       "    </tr>\n",
       "  </tbody>\n",
       "</table>\n",
       "</div>"
      ],
      "text/plain": [
       "         Date         Open         High          Low        Close  \\\n",
       "0  2012-09-26  1441.599976  1441.599976  1430.530029  1433.319946   \n",
       "1  2012-09-27  1433.359985  1450.199951  1433.359985  1447.150024   \n",
       "2  2012-09-28  1447.130005  1447.130005  1435.599976  1440.670044   \n",
       "3  2012-10-01  1440.900024  1457.140015  1440.900024  1444.489990   \n",
       "4  2012-10-02  1444.989990  1451.520020  1439.010010  1445.750000   \n",
       "\n",
       "     Adj Close      Volume  daily_returns  \n",
       "0  1433.319946  3565380000            NaN  \n",
       "1  1447.150024  3150330000       0.009649  \n",
       "2  1440.670044  3509230000      -0.004478  \n",
       "3  1444.489990  3505080000       0.002652  \n",
       "4  1445.750000  3321790000       0.000872  "
      ]
     },
     "execution_count": 45,
     "metadata": {},
     "output_type": "execute_result"
    }
   ],
   "source": [
    "# The shift function allows us to shift all values up or down in a column.\n",
    "\n",
    "sp500_daily['daily_returns'] = sp500_daily['Adj Close'] / sp500_daily['Adj Close'].shift(1)-1\n",
    "sp500_daily.head(5)"
   ]
  },
  {
   "cell_type": "code",
   "execution_count": 47,
   "metadata": {},
   "outputs": [
    {
     "data": {
      "text/plain": [
       "(0.007668116862563054, 0.12172758145513618)"
      ]
     },
     "execution_count": 47,
     "metadata": {},
     "output_type": "execute_result"
    }
   ],
   "source": [
    "sp500_daily_vol = sp500_daily['daily_returns'].std()\n",
    "sp500_daily_vol_annualized = sp500_daily_vol * math.sqrt(252) # annualized std, market is open for 252 days a year\n",
    "sp500_daily_vol, sp500_daily_vol_annualized"
   ]
  },
  {
   "cell_type": "code",
   "execution_count": 48,
   "metadata": {},
   "outputs": [
    {
     "data": {
      "text/html": [
       "<div>\n",
       "<style>\n",
       "    .dataframe thead tr:only-child th {\n",
       "        text-align: right;\n",
       "    }\n",
       "\n",
       "    .dataframe thead th {\n",
       "        text-align: left;\n",
       "    }\n",
       "\n",
       "    .dataframe tbody tr th {\n",
       "        vertical-align: top;\n",
       "    }\n",
       "</style>\n",
       "<table border=\"1\" class=\"dataframe\">\n",
       "  <thead>\n",
       "    <tr style=\"text-align: right;\">\n",
       "      <th></th>\n",
       "      <th>Date</th>\n",
       "      <th>Open</th>\n",
       "      <th>High</th>\n",
       "      <th>Low</th>\n",
       "      <th>Close</th>\n",
       "      <th>Adj Close</th>\n",
       "      <th>Volume</th>\n",
       "    </tr>\n",
       "  </thead>\n",
       "  <tbody>\n",
       "    <tr>\n",
       "      <th>0</th>\n",
       "      <td>2012-09-01</td>\n",
       "      <td>null</td>\n",
       "      <td>null</td>\n",
       "      <td>null</td>\n",
       "      <td>null</td>\n",
       "      <td>null</td>\n",
       "      <td>null</td>\n",
       "    </tr>\n",
       "    <tr>\n",
       "      <th>1</th>\n",
       "      <td>2012-10-01</td>\n",
       "      <td>1440.900024</td>\n",
       "      <td>1470.959961</td>\n",
       "      <td>1403.280029</td>\n",
       "      <td>1412.160034</td>\n",
       "      <td>1412.160034</td>\n",
       "      <td>71752320000</td>\n",
       "    </tr>\n",
       "    <tr>\n",
       "      <th>2</th>\n",
       "      <td>2012-11-01</td>\n",
       "      <td>1412.199951</td>\n",
       "      <td>1434.270020</td>\n",
       "      <td>1343.349976</td>\n",
       "      <td>1416.180054</td>\n",
       "      <td>1416.180054</td>\n",
       "      <td>71489310000</td>\n",
       "    </tr>\n",
       "    <tr>\n",
       "      <th>3</th>\n",
       "      <td>2012-12-01</td>\n",
       "      <td>1416.339966</td>\n",
       "      <td>1448.000000</td>\n",
       "      <td>1398.109985</td>\n",
       "      <td>1426.189941</td>\n",
       "      <td>1426.189941</td>\n",
       "      <td>66388180000</td>\n",
       "    </tr>\n",
       "    <tr>\n",
       "      <th>4</th>\n",
       "      <td>2013-01-01</td>\n",
       "      <td>1426.189941</td>\n",
       "      <td>1509.939941</td>\n",
       "      <td>1426.189941</td>\n",
       "      <td>1498.109985</td>\n",
       "      <td>1498.109985</td>\n",
       "      <td>75848510000</td>\n",
       "    </tr>\n",
       "  </tbody>\n",
       "</table>\n",
       "</div>"
      ],
      "text/plain": [
       "         Date         Open         High          Low        Close  \\\n",
       "0  2012-09-01         null         null         null         null   \n",
       "1  2012-10-01  1440.900024  1470.959961  1403.280029  1412.160034   \n",
       "2  2012-11-01  1412.199951  1434.270020  1343.349976  1416.180054   \n",
       "3  2012-12-01  1416.339966  1448.000000  1398.109985  1426.189941   \n",
       "4  2013-01-01  1426.189941  1509.939941  1426.189941  1498.109985   \n",
       "\n",
       "     Adj Close       Volume  \n",
       "0         null         null  \n",
       "1  1412.160034  71752320000  \n",
       "2  1416.180054  71489310000  \n",
       "3  1426.189941  66388180000  \n",
       "4  1498.109985  75848510000  "
      ]
     },
     "execution_count": 48,
     "metadata": {},
     "output_type": "execute_result"
    }
   ],
   "source": [
    "sp500_monthly.head(5)"
   ]
  },
  {
   "cell_type": "code",
   "execution_count": 49,
   "metadata": {},
   "outputs": [],
   "source": [
    "sp500_monthly['Adj Close'] = pd.to_numeric(sp500_monthly['Adj Close'], errors = 'coerce')"
   ]
  },
  {
   "cell_type": "code",
   "execution_count": 50,
   "metadata": {},
   "outputs": [
    {
     "data": {
      "text/html": [
       "<div>\n",
       "<style>\n",
       "    .dataframe thead tr:only-child th {\n",
       "        text-align: right;\n",
       "    }\n",
       "\n",
       "    .dataframe thead th {\n",
       "        text-align: left;\n",
       "    }\n",
       "\n",
       "    .dataframe tbody tr th {\n",
       "        vertical-align: top;\n",
       "    }\n",
       "</style>\n",
       "<table border=\"1\" class=\"dataframe\">\n",
       "  <thead>\n",
       "    <tr style=\"text-align: right;\">\n",
       "      <th></th>\n",
       "      <th>Date</th>\n",
       "      <th>Open</th>\n",
       "      <th>High</th>\n",
       "      <th>Low</th>\n",
       "      <th>Close</th>\n",
       "      <th>Adj Close</th>\n",
       "      <th>Volume</th>\n",
       "      <th>monthly_returns</th>\n",
       "    </tr>\n",
       "  </thead>\n",
       "  <tbody>\n",
       "    <tr>\n",
       "      <th>0</th>\n",
       "      <td>2012-09-01</td>\n",
       "      <td>null</td>\n",
       "      <td>null</td>\n",
       "      <td>null</td>\n",
       "      <td>null</td>\n",
       "      <td>NaN</td>\n",
       "      <td>null</td>\n",
       "      <td>NaN</td>\n",
       "    </tr>\n",
       "    <tr>\n",
       "      <th>1</th>\n",
       "      <td>2012-10-01</td>\n",
       "      <td>1440.900024</td>\n",
       "      <td>1470.959961</td>\n",
       "      <td>1403.280029</td>\n",
       "      <td>1412.160034</td>\n",
       "      <td>1412.160034</td>\n",
       "      <td>71752320000</td>\n",
       "      <td>NaN</td>\n",
       "    </tr>\n",
       "    <tr>\n",
       "      <th>2</th>\n",
       "      <td>2012-11-01</td>\n",
       "      <td>1412.199951</td>\n",
       "      <td>1434.270020</td>\n",
       "      <td>1343.349976</td>\n",
       "      <td>1416.180054</td>\n",
       "      <td>1416.180054</td>\n",
       "      <td>71489310000</td>\n",
       "      <td>0.002847</td>\n",
       "    </tr>\n",
       "    <tr>\n",
       "      <th>3</th>\n",
       "      <td>2012-12-01</td>\n",
       "      <td>1416.339966</td>\n",
       "      <td>1448.000000</td>\n",
       "      <td>1398.109985</td>\n",
       "      <td>1426.189941</td>\n",
       "      <td>1426.189941</td>\n",
       "      <td>66388180000</td>\n",
       "      <td>0.007068</td>\n",
       "    </tr>\n",
       "    <tr>\n",
       "      <th>4</th>\n",
       "      <td>2013-01-01</td>\n",
       "      <td>1426.189941</td>\n",
       "      <td>1509.939941</td>\n",
       "      <td>1426.189941</td>\n",
       "      <td>1498.109985</td>\n",
       "      <td>1498.109985</td>\n",
       "      <td>75848510000</td>\n",
       "      <td>0.050428</td>\n",
       "    </tr>\n",
       "  </tbody>\n",
       "</table>\n",
       "</div>"
      ],
      "text/plain": [
       "         Date         Open         High          Low        Close  \\\n",
       "0  2012-09-01         null         null         null         null   \n",
       "1  2012-10-01  1440.900024  1470.959961  1403.280029  1412.160034   \n",
       "2  2012-11-01  1412.199951  1434.270020  1343.349976  1416.180054   \n",
       "3  2012-12-01  1416.339966  1448.000000  1398.109985  1426.189941   \n",
       "4  2013-01-01  1426.189941  1509.939941  1426.189941  1498.109985   \n",
       "\n",
       "     Adj Close       Volume  monthly_returns  \n",
       "0          NaN         null              NaN  \n",
       "1  1412.160034  71752320000              NaN  \n",
       "2  1416.180054  71489310000         0.002847  \n",
       "3  1426.189941  66388180000         0.007068  \n",
       "4  1498.109985  75848510000         0.050428  "
      ]
     },
     "execution_count": 50,
     "metadata": {},
     "output_type": "execute_result"
    }
   ],
   "source": [
    "sp500_monthly['monthly_returns'] = sp500_monthly['Adj Close'] / sp500_monthly['Adj Close'].shift(1)-1\n",
    "sp500_monthly.head(5)"
   ]
  },
  {
   "cell_type": "code",
   "execution_count": 51,
   "metadata": {},
   "outputs": [
    {
     "data": {
      "text/plain": [
       "(0.02720897718750704, 0.09425466182148945)"
      ]
     },
     "execution_count": 51,
     "metadata": {},
     "output_type": "execute_result"
    }
   ],
   "source": [
    "sp500_monthly_vol = sp500_monthly['monthly_returns'].std()\n",
    "sp500_monthly_vol_annualized = sp500_monthly_vol * math.sqrt(12)\n",
    "sp500_monthly_vol, sp500_monthly_vol_annualized"
   ]
  },
  {
   "cell_type": "markdown",
   "metadata": {},
   "source": [
    "What do we learn from this? Time is always an input in finance. Volatility should always be reported with the time scale (daily, monthly, etc)\n",
    "\n",
    "not revaluing your portfolio too often can lead to a low vol strategy\n",
    "\n",
    "p.s. it can also lead to absolute, uncorrelated returns, especially in times of crisis"
   ]
  },
  {
   "cell_type": "markdown",
   "metadata": {},
   "source": [
    "Our statistics are highly time dependant including in terms of inputs"
   ]
  },
  {
   "cell_type": "markdown",
   "metadata": {},
   "source": [
    "We are sitting now with a mean that is accompanied by a relatively high volatility.\n",
    "\n",
    "How do we get a more accurate picture of the long term averages?\n",
    "\n",
    "Longer rolling returns periods. This smoothes the values over. This is also why some funds prefer basing their performance fees on rolling returns.\n",
    "\n",
    "Let's smoothe"
   ]
  },
  {
   "cell_type": "code",
   "execution_count": 52,
   "metadata": {},
   "outputs": [
    {
     "name": "stderr",
     "output_type": "stream",
     "text": [
      "/Users/iht/anaconda3/lib/python3.6/site-packages/ipykernel_launcher.py:1: SettingWithCopyWarning: \n",
      "A value is trying to be set on a copy of a slice from a DataFrame.\n",
      "Try using .loc[row_indexer,col_indexer] = value instead\n",
      "\n",
      "See the caveats in the documentation: http://pandas.pydata.org/pandas-docs/stable/indexing.html#indexing-view-versus-copy\n",
      "  \"\"\"Entry point for launching an IPython kernel.\n",
      "/Users/iht/anaconda3/lib/python3.6/site-packages/ipykernel_launcher.py:2: SettingWithCopyWarning: \n",
      "A value is trying to be set on a copy of a slice from a DataFrame.\n",
      "Try using .loc[row_indexer,col_indexer] = value instead\n",
      "\n",
      "See the caveats in the documentation: http://pandas.pydata.org/pandas-docs/stable/indexing.html#indexing-view-versus-copy\n",
      "  \n"
     ]
    }
   ],
   "source": [
    "sp501[\"3yr rolling mean\"] = sp501['Value'].rolling(window = 3, center=False).mean()\n",
    "sp501[\"10yr rolling mean\"] = sp501['Value'].rolling(window = 10, center=False).mean()"
   ]
  },
  {
   "cell_type": "code",
   "execution_count": 54,
   "metadata": {},
   "outputs": [
    {
     "data": {
      "text/plain": [
       "<matplotlib.axes._subplots.AxesSubplot at 0x1088d8b38>"
      ]
     },
     "execution_count": 54,
     "metadata": {},
     "output_type": "execute_result"
    },
    {
     "data": {
      "image/png": "[encoded data removed]",
      "text/plain": [
       "<matplotlib.figure.Figure at 0x1172a4cc0>"
      ]
     },
     "metadata": {},
     "output_type": "display_data"
    }
   ],
   "source": [
    "sp501.set_index('Year').plot(figsize=(10,6), grid=True)"
   ]
  },
  {
   "cell_type": "code",
   "execution_count": 56,
   "metadata": {},
   "outputs": [
    {
     "data": {
      "text/html": [
       "<div>\n",
       "<style>\n",
       "    .dataframe thead tr:only-child th {\n",
       "        text-align: right;\n",
       "    }\n",
       "\n",
       "    .dataframe thead th {\n",
       "        text-align: left;\n",
       "    }\n",
       "\n",
       "    .dataframe tbody tr th {\n",
       "        vertical-align: top;\n",
       "    }\n",
       "</style>\n",
       "<table border=\"1\" class=\"dataframe\">\n",
       "  <thead>\n",
       "    <tr style=\"text-align: right;\">\n",
       "      <th></th>\n",
       "      <th>Year</th>\n",
       "      <th>Value</th>\n",
       "      <th>3yr rolling mean</th>\n",
       "      <th>10yr rolling mean</th>\n",
       "    </tr>\n",
       "  </thead>\n",
       "  <tbody>\n",
       "    <tr>\n",
       "      <th>0</th>\n",
       "      <td>1928</td>\n",
       "      <td>43.81</td>\n",
       "      <td>NaN</td>\n",
       "      <td>NaN</td>\n",
       "    </tr>\n",
       "    <tr>\n",
       "      <th>1</th>\n",
       "      <td>1929</td>\n",
       "      <td>-8.30</td>\n",
       "      <td>NaN</td>\n",
       "      <td>NaN</td>\n",
       "    </tr>\n",
       "    <tr>\n",
       "      <th>2</th>\n",
       "      <td>1930</td>\n",
       "      <td>-25.12</td>\n",
       "      <td>3.463333</td>\n",
       "      <td>NaN</td>\n",
       "    </tr>\n",
       "    <tr>\n",
       "      <th>3</th>\n",
       "      <td>1931</td>\n",
       "      <td>-43.84</td>\n",
       "      <td>-25.753333</td>\n",
       "      <td>NaN</td>\n",
       "    </tr>\n",
       "    <tr>\n",
       "      <th>4</th>\n",
       "      <td>1932</td>\n",
       "      <td>-8.64</td>\n",
       "      <td>-25.866667</td>\n",
       "      <td>NaN</td>\n",
       "    </tr>\n",
       "    <tr>\n",
       "      <th>5</th>\n",
       "      <td>1933</td>\n",
       "      <td>49.98</td>\n",
       "      <td>-0.833333</td>\n",
       "      <td>NaN</td>\n",
       "    </tr>\n",
       "    <tr>\n",
       "      <th>6</th>\n",
       "      <td>1934</td>\n",
       "      <td>-1.19</td>\n",
       "      <td>13.383333</td>\n",
       "      <td>NaN</td>\n",
       "    </tr>\n",
       "    <tr>\n",
       "      <th>7</th>\n",
       "      <td>1935</td>\n",
       "      <td>46.74</td>\n",
       "      <td>31.843333</td>\n",
       "      <td>NaN</td>\n",
       "    </tr>\n",
       "    <tr>\n",
       "      <th>8</th>\n",
       "      <td>1936</td>\n",
       "      <td>31.94</td>\n",
       "      <td>25.830000</td>\n",
       "      <td>NaN</td>\n",
       "    </tr>\n",
       "    <tr>\n",
       "      <th>9</th>\n",
       "      <td>1937</td>\n",
       "      <td>-35.34</td>\n",
       "      <td>14.446667</td>\n",
       "      <td>5.004</td>\n",
       "    </tr>\n",
       "    <tr>\n",
       "      <th>10</th>\n",
       "      <td>1938</td>\n",
       "      <td>29.28</td>\n",
       "      <td>8.626667</td>\n",
       "      <td>3.551</td>\n",
       "    </tr>\n",
       "    <tr>\n",
       "      <th>11</th>\n",
       "      <td>1939</td>\n",
       "      <td>-1.10</td>\n",
       "      <td>-2.386667</td>\n",
       "      <td>4.271</td>\n",
       "    </tr>\n",
       "  </tbody>\n",
       "</table>\n",
       "</div>"
      ],
      "text/plain": [
       "    Year  Value  3yr rolling mean  10yr rolling mean\n",
       "0   1928  43.81               NaN                NaN\n",
       "1   1929  -8.30               NaN                NaN\n",
       "2   1930 -25.12          3.463333                NaN\n",
       "3   1931 -43.84        -25.753333                NaN\n",
       "4   1932  -8.64        -25.866667                NaN\n",
       "5   1933  49.98         -0.833333                NaN\n",
       "6   1934  -1.19         13.383333                NaN\n",
       "7   1935  46.74         31.843333                NaN\n",
       "8   1936  31.94         25.830000                NaN\n",
       "9   1937 -35.34         14.446667              5.004\n",
       "10  1938  29.28          8.626667              3.551\n",
       "11  1939  -1.10         -2.386667              4.271"
      ]
     },
     "execution_count": 56,
     "metadata": {},
     "output_type": "execute_result"
    }
   ],
   "source": [
    "sp501.head(12)"
   ]
  },
  {
   "cell_type": "code",
   "execution_count": 57,
   "metadata": {},
   "outputs": [
    {
     "data": {
      "text/plain": [
       "31.84333333333333"
      ]
     },
     "execution_count": 57,
     "metadata": {},
     "output_type": "execute_result"
    }
   ],
   "source": [
    "sp501['3yr rolling mean'].max()"
   ]
  },
  {
   "cell_type": "code",
   "execution_count": 58,
   "metadata": {},
   "outputs": [
    {
     "data": {
      "text/plain": [
       "21.559000000000001"
      ]
     },
     "execution_count": 58,
     "metadata": {},
     "output_type": "execute_result"
    }
   ],
   "source": [
    "sp501['10yr rolling mean'].max()"
   ]
  },
  {
   "cell_type": "markdown",
   "metadata": {},
   "source": [
    "Second issue: The standard deviation assumes normality of the distribution. What is a normal distribution?\n",
    "\n",
    "About 68% of the observed returns will be within a range of one standard deviation above and \n",
    "below the mean return.\n",
    "\n",
    "■ Approximately 90% of returns within ±1.65 standard deviations.\n",
    "\n",
    "■ Approximately 95% of returns within ±2 standard deviations.\n",
    "\n",
    "■ Almost all returns within ±3 standard deviations.\n",
    "\n",
    "Are historical returns of S&P500 normally distributed?"
   ]
  },
  {
   "cell_type": "code",
   "execution_count": 59,
   "metadata": {},
   "outputs": [
    {
     "data": {
      "text/plain": [
       "<matplotlib.axes._subplots.AxesSubplot at 0x1088d16a0>"
      ]
     },
     "execution_count": 59,
     "metadata": {},
     "output_type": "execute_result"
    },
    {
     "data": {
      "image/png": "[encoded data removed]",
      "text/plain": [
       "<matplotlib.figure.Figure at 0x1172b89e8>"
      ]
     },
     "metadata": {},
     "output_type": "display_data"
    }
   ],
   "source": [
    "sns.distplot(sp501['Value'])"
   ]
  },
  {
   "cell_type": "code",
   "execution_count": 60,
   "metadata": {},
   "outputs": [
    {
     "data": {
      "text/plain": [
       "(11.415842696629218, 13.52)"
      ]
     },
     "execution_count": 60,
     "metadata": {},
     "output_type": "execute_result"
    }
   ],
   "source": [
    "#Quick tip: If it is normally distributed, the mean and the median should be the same.\n",
    "sp501['Value'].mean(), sp501['Value'].median()"
   ]
  },
  {
   "cell_type": "markdown",
   "metadata": {},
   "source": [
    "What allows us to describe the shape of a distribution more precisely?\n",
    "\n",
    "The third and fourth moments of a distribution. Skewness and Kurtosis.\n",
    "\n",
    "Skewness (3rd moment): the degree of asymmetry of a distribution around its mean. Negative or left skewness means an asymmetric left tail that extends more towards negative values than its right counterparty. And vice-versa. In a negatively skewed distribution, the mean will be lower than the median, and the standard deviation will underestimate the proportion of returns below the mean and overestimate the proportion of returns above the mean.\n",
    "\n",
    "Kurtosis (4th moment): degree of peakness of a distribution. Normal distribution is 3. A lower value indicates a flatter distribution or platykurtic and a higher value a more peaked, or leptokurtic distribution. A higher value implies more returns closer to the mean than for the normal distribution, and therefore also fatter tails i.e. more high values in the tails than we would otherwise expect.\n",
    "\n",
    "! Skewness and kurtosis are not measured in units of return."
   ]
  },
  {
   "cell_type": "code",
   "execution_count": 61,
   "metadata": {},
   "outputs": [
    {
     "data": {
      "image/png": "[encoded data removed]",
      "text/plain": [
       "<IPython.core.display.Image object>"
      ]
     },
     "execution_count": 61,
     "metadata": {},
     "output_type": "execute_result"
    }
   ],
   "source": [
    "from IPython.display import Image\n",
    "from IPython.core.display import HTML \n",
    "Image(\"Two_distributions.png\")"
   ]
  },
  {
   "cell_type": "code",
   "execution_count": 62,
   "metadata": {
    "collapsed": true
   },
   "outputs": [],
   "source": [
    "#Many thanks to Con Keating for kindly providing this illustration."
   ]
  },
  {
   "cell_type": "markdown",
   "metadata": {},
   "source": [
    "Skewness\n",
    "\n",
    "Formula for calculating the skewness:\n",
    "$\\sum (\\frac {x_i - \\overline x}{stdev(x_i)}) ^ 3 * \\frac{1}{N}$"
   ]
  },
  {
   "cell_type": "code",
   "execution_count": 63,
   "metadata": {},
   "outputs": [
    {
     "data": {
      "text/plain": [
       "-0.40401800741280103"
      ]
     },
     "execution_count": 63,
     "metadata": {},
     "output_type": "execute_result"
    }
   ],
   "source": [
    "skewness = sp501['Value'].skew()\n",
    "skewness"
   ]
  },
  {
   "cell_type": "markdown",
   "metadata": {},
   "source": [
    "Negative skewness? What do we do now?"
   ]
  },
  {
   "cell_type": "markdown",
   "metadata": {},
   "source": [
    "Kurtosis: same formula as skewness, but we raise to the power of 4 instead of 3\n",
    "\n",
    "Formula for calculating the skewness:\n",
    "$\\sum (\\frac {x_i - \\overline x}{stdev(x_i)}) ^ 4 * \\frac{1}{N}$"
   ]
  },
  {
   "cell_type": "code",
   "execution_count": 64,
   "metadata": {},
   "outputs": [
    {
     "data": {
      "text/plain": [
       "0.088679683721088143"
      ]
     },
     "execution_count": 64,
     "metadata": {},
     "output_type": "execute_result"
    }
   ],
   "source": [
    "kurtosis = sp501['Value'].kurtosis()\n",
    "kurtosis"
   ]
  },
  {
   "cell_type": "markdown",
   "metadata": {},
   "source": [
    "!The kurtosis function in pandas returns the excess kurtosis actually, not the kurtosis itself.\n",
    "In this case, we have a slightly higher kurtosis and therefore fat tails i.e. frequency of outcomes in the tails, at the extremes, is higher than we would expect based on a normal distribution."
   ]
  },
  {
   "cell_type": "markdown",
   "metadata": {},
   "source": [
    "How do we test for both/for normality?\n",
    "\n",
    "Jarque-Bera test.\n",
    "\n",
    "Named after Carlos Jarque and Anil Bera.\n",
    "\n",
    "Compares skewness and kurtosis to what would be expected for a normal distribution i.e. a skewness of 0 and an excess kurtosis of 0.\n",
    "Deviation from either one will increase its value. If greater than 6, usually a sign that distribution is not normal.\n",
    "\n",
    "Formula:\n",
    "\n",
    "$(skewness^2 + \\frac {excess \\ kurtosis^2}{4}) * \\frac{N}{6}$"
   ]
  },
  {
   "cell_type": "code",
   "execution_count": 65,
   "metadata": {},
   "outputs": [
    {
     "data": {
      "text/plain": [
       "(2.3410325018531082, 0.31020675539609432)"
      ]
     },
     "execution_count": 65,
     "metadata": {},
     "output_type": "execute_result"
    }
   ],
   "source": [
    "#scipy offers a jarque bera test function\n",
    "\n",
    "scipy.stats.jarque_bera(sp501['Value'])"
   ]
  },
  {
   "cell_type": "code",
   "execution_count": 67,
   "metadata": {},
   "outputs": [
    {
     "data": {
      "text/plain": [
       "(0.9837073087692261, 0.3299134075641632)"
      ]
     },
     "execution_count": 67,
     "metadata": {},
     "output_type": "execute_result"
    }
   ],
   "source": [
    "scipy.stats.shapiro(sp501.Value)"
   ]
  },
  {
   "cell_type": "markdown",
   "metadata": {},
   "source": [
    "The $p$-value is 0.33 > 0.05, so we cannot reject the null hypothesis that the data is not normal, in spite of previous evidences."
   ]
  },
  {
   "cell_type": "markdown",
   "metadata": {},
   "source": [
    "What can we conclude?"
   ]
  },
  {
   "cell_type": "markdown",
   "metadata": {},
   "source": [
    "# Risk\n",
    "The financial crisis and ensuing recession from a risk perspective\n",
    "\n",
    "The \"Our risk models were wrong\" and \"We did not understand risk\" arguments\n",
    "\n",
    "Risk analytics is impossible in a probabilistic universe?\n",
    "\n",
    "Risk analysts/modelling experts are palm readers?\n",
    "\n",
    "I believe this to be an oversimplification/wrong.\n",
    "\n",
    "You misestimate risk by using the wrong distribution, or the wrong value for your stdev. The problem is simple - the solution may not be.\n",
    "\n",
    "First of all, what is risk? Several definitions of risk\n",
    "1. The risk of losing money i.e. absolute risk\n",
    "2. The risk of not achieving a minimal return i.e. internal relative risk\n",
    "3. The risk of deviating from a benchmark too much i.e. external relative risk\n",
    "\n",
    "Questions we are trying to answer:\n",
    "\n",
    "How much risk does the portfolio manager take to achieve a certain return?\n",
    "\n",
    "How much uncertainty surrounds our expected return from this portfolio?\n",
    "\n",
    "Volatility/Return relationship. See Ibbotson Associates research on these.\n",
    "\n",
    "Risk measurement vs risk management.\n",
    "\n",
    "Measures we will review here:\n",
    "\n",
    "Absolute risk: dev; MAR\n",
    "\n",
    "Relative risk: correlation; Sharpe; Sortino; Information Ratio"
   ]
  },
  {
   "cell_type": "markdown",
   "metadata": {},
   "source": [
    "Some of the issues with the stdev:\n",
    "\n",
    "1. Two funds can have the same historical returns with widely different standard deviations. A fund can consistently lose money and have a significantly lower standard deviation than a fund annualizing high returns.\n",
    "2. The standard deviation is calculated around the historical mean.\n",
    "3. Units\n",
    "4. The standard deviation places the same emphasis on upside and downside deviations from the mean. We are usually only wary of downside deviation, while warmly welcoming the upside one."
   ]
  },
  {
   "cell_type": "markdown",
   "metadata": {},
   "source": [
    "Question: can you compare two funds based on the standard deviation of their returns?\n",
    "\n",
    "Standardization\n",
    "\n",
    "The coefficient of variation"
   ]
  },
  {
   "cell_type": "code",
   "execution_count": 75,
   "metadata": {},
   "outputs": [
    {
     "data": {
      "text/plain": [
       "1.7259241990383338"
      ]
     },
     "execution_count": 75,
     "metadata": {},
     "output_type": "execute_result"
    }
   ],
   "source": [
    "coef_variation = sp501['Value'].std()/sp501['Value'].mean()\n",
    "coef_variation"
   ]
  },
  {
   "cell_type": "markdown",
   "metadata": {},
   "source": [
    "Partial moments - measure part of the distribution\n",
    "\n",
    "A lower partial moment: the semideviation. The stdev of returns that fall below the mean return.\n",
    "\n",
    "$ semideviation = \\sqrt(\\frac{\\sum(x_i - \\overline x) ^2 where (x_i < \\overline x)}{N})$"
   ]
  },
  {
   "cell_type": "code",
   "execution_count": 76,
   "metadata": {
    "collapsed": true
   },
   "outputs": [],
   "source": [
    "mean = sp501['Value'].mean()\n",
    "def semidev(x):\n",
    "    if x < mean:\n",
    "        return x\n",
    "    else:\n",
    "        return 0"
   ]
  },
  {
   "cell_type": "code",
   "execution_count": 77,
   "metadata": {},
   "outputs": [],
   "source": [
    "sp501['Negative deviation'] = sp501['Value'].apply(semidev)"
   ]
  },
  {
   "cell_type": "code",
   "execution_count": 78,
   "metadata": {},
   "outputs": [
    {
     "data": {
      "text/html": [
       "<div>\n",
       "<style>\n",
       "    .dataframe thead tr:only-child th {\n",
       "        text-align: right;\n",
       "    }\n",
       "\n",
       "    .dataframe thead th {\n",
       "        text-align: left;\n",
       "    }\n",
       "\n",
       "    .dataframe tbody tr th {\n",
       "        vertical-align: top;\n",
       "    }\n",
       "</style>\n",
       "<table border=\"1\" class=\"dataframe\">\n",
       "  <thead>\n",
       "    <tr style=\"text-align: right;\">\n",
       "      <th></th>\n",
       "      <th>Year</th>\n",
       "      <th>Value</th>\n",
       "      <th>3yr rolling mean</th>\n",
       "      <th>10yr rolling mean</th>\n",
       "      <th>Negative deviation</th>\n",
       "    </tr>\n",
       "  </thead>\n",
       "  <tbody>\n",
       "    <tr>\n",
       "      <th>0</th>\n",
       "      <td>1928</td>\n",
       "      <td>43.81</td>\n",
       "      <td>NaN</td>\n",
       "      <td>NaN</td>\n",
       "      <td>0.00</td>\n",
       "    </tr>\n",
       "    <tr>\n",
       "      <th>1</th>\n",
       "      <td>1929</td>\n",
       "      <td>-8.30</td>\n",
       "      <td>NaN</td>\n",
       "      <td>NaN</td>\n",
       "      <td>-8.30</td>\n",
       "    </tr>\n",
       "    <tr>\n",
       "      <th>2</th>\n",
       "      <td>1930</td>\n",
       "      <td>-25.12</td>\n",
       "      <td>3.463333</td>\n",
       "      <td>NaN</td>\n",
       "      <td>-25.12</td>\n",
       "    </tr>\n",
       "    <tr>\n",
       "      <th>3</th>\n",
       "      <td>1931</td>\n",
       "      <td>-43.84</td>\n",
       "      <td>-25.753333</td>\n",
       "      <td>NaN</td>\n",
       "      <td>-43.84</td>\n",
       "    </tr>\n",
       "    <tr>\n",
       "      <th>4</th>\n",
       "      <td>1932</td>\n",
       "      <td>-8.64</td>\n",
       "      <td>-25.866667</td>\n",
       "      <td>NaN</td>\n",
       "      <td>-8.64</td>\n",
       "    </tr>\n",
       "  </tbody>\n",
       "</table>\n",
       "</div>"
      ],
      "text/plain": [
       "   Year  Value  3yr rolling mean  10yr rolling mean  Negative deviation\n",
       "0  1928  43.81               NaN                NaN                0.00\n",
       "1  1929  -8.30               NaN                NaN               -8.30\n",
       "2  1930 -25.12          3.463333                NaN              -25.12\n",
       "3  1931 -43.84        -25.753333                NaN              -43.84\n",
       "4  1932  -8.64        -25.866667                NaN               -8.64"
      ]
     },
     "execution_count": 78,
     "metadata": {},
     "output_type": "execute_result"
    }
   ],
   "source": [
    "sp501.head(5)"
   ]
  },
  {
   "cell_type": "code",
   "execution_count": 79,
   "metadata": {},
   "outputs": [],
   "source": [
    "def semidev2(x):\n",
    "    if x != 0:\n",
    "        return (x - mean)**2\n",
    "    else:\n",
    "        return 0"
   ]
  },
  {
   "cell_type": "code",
   "execution_count": 80,
   "metadata": {},
   "outputs": [
    {
     "data": {
      "text/html": [
       "<div>\n",
       "<style>\n",
       "    .dataframe thead tr:only-child th {\n",
       "        text-align: right;\n",
       "    }\n",
       "\n",
       "    .dataframe thead th {\n",
       "        text-align: left;\n",
       "    }\n",
       "\n",
       "    .dataframe tbody tr th {\n",
       "        vertical-align: top;\n",
       "    }\n",
       "</style>\n",
       "<table border=\"1\" class=\"dataframe\">\n",
       "  <thead>\n",
       "    <tr style=\"text-align: right;\">\n",
       "      <th></th>\n",
       "      <th>Year</th>\n",
       "      <th>Value</th>\n",
       "      <th>3yr rolling mean</th>\n",
       "      <th>10yr rolling mean</th>\n",
       "      <th>Negative deviation</th>\n",
       "      <th>semidev2</th>\n",
       "    </tr>\n",
       "  </thead>\n",
       "  <tbody>\n",
       "    <tr>\n",
       "      <th>0</th>\n",
       "      <td>1928</td>\n",
       "      <td>43.81</td>\n",
       "      <td>NaN</td>\n",
       "      <td>NaN</td>\n",
       "      <td>0.00</td>\n",
       "      <td>0.000000</td>\n",
       "    </tr>\n",
       "    <tr>\n",
       "      <th>1</th>\n",
       "      <td>1929</td>\n",
       "      <td>-8.30</td>\n",
       "      <td>NaN</td>\n",
       "      <td>NaN</td>\n",
       "      <td>-8.30</td>\n",
       "      <td>388.714453</td>\n",
       "    </tr>\n",
       "    <tr>\n",
       "      <th>2</th>\n",
       "      <td>1930</td>\n",
       "      <td>-25.12</td>\n",
       "      <td>3.463333</td>\n",
       "      <td>NaN</td>\n",
       "      <td>-25.12</td>\n",
       "      <td>1334.867802</td>\n",
       "    </tr>\n",
       "    <tr>\n",
       "      <th>3</th>\n",
       "      <td>1931</td>\n",
       "      <td>-43.84</td>\n",
       "      <td>-25.753333</td>\n",
       "      <td>NaN</td>\n",
       "      <td>-43.84</td>\n",
       "      <td>3053.208152</td>\n",
       "    </tr>\n",
       "    <tr>\n",
       "      <th>4</th>\n",
       "      <td>1932</td>\n",
       "      <td>-8.64</td>\n",
       "      <td>-25.866667</td>\n",
       "      <td>NaN</td>\n",
       "      <td>-8.64</td>\n",
       "      <td>402.236826</td>\n",
       "    </tr>\n",
       "  </tbody>\n",
       "</table>\n",
       "</div>"
      ],
      "text/plain": [
       "   Year  Value  3yr rolling mean  10yr rolling mean  Negative deviation  \\\n",
       "0  1928  43.81               NaN                NaN                0.00   \n",
       "1  1929  -8.30               NaN                NaN               -8.30   \n",
       "2  1930 -25.12          3.463333                NaN              -25.12   \n",
       "3  1931 -43.84        -25.753333                NaN              -43.84   \n",
       "4  1932  -8.64        -25.866667                NaN               -8.64   \n",
       "\n",
       "      semidev2  \n",
       "0     0.000000  \n",
       "1   388.714453  \n",
       "2  1334.867802  \n",
       "3  3053.208152  \n",
       "4   402.236826  "
      ]
     },
     "execution_count": 80,
     "metadata": {},
     "output_type": "execute_result"
    }
   ],
   "source": [
    "sp501['semidev2'] = sp501['Negative deviation'].apply(semidev2)\n",
    "sp501.head(5)"
   ]
  },
  {
   "cell_type": "code",
   "execution_count": 81,
   "metadata": {},
   "outputs": [
    {
     "data": {
      "text/plain": [
       "14.61720072842248"
      ]
     },
     "execution_count": 81,
     "metadata": {},
     "output_type": "execute_result"
    }
   ],
   "source": [
    "semideviation = math.sqrt(sp501['semidev2'].sum()/len(sp501))\n",
    "semideviation"
   ]
  },
  {
   "cell_type": "markdown",
   "metadata": {},
   "source": [
    "Question: can the semideviation and standard deviation be the same?"
   ]
  },
  {
   "cell_type": "markdown",
   "metadata": {},
   "source": [
    "Issue mentioned: standard deviation and semideviation are both relative to their own means.\n",
    "\n",
    "What about deviation from an absolute return?\n",
    "\n",
    "Downside measures that are not calculated around the historical mean are particularly helpful and informative when we don't deal with a normal distribution.\n",
    "\n",
    "Concept of MAR.\n",
    "\n",
    "Shortfall risk: percentage of returns that fall below target return\n",
    "\n",
    "$shortfall= \\frac{number \\ of \\ returns < target \\ return}{total \\ number \\ of \\ returns}$"
   ]
  },
  {
   "cell_type": "code",
   "execution_count": 82,
   "metadata": {
    "scrolled": true
   },
   "outputs": [
    {
     "data": {
      "text/plain": [
       "33.70786516853933"
      ]
     },
     "execution_count": 82,
     "metadata": {},
     "output_type": "execute_result"
    }
   ],
   "source": [
    "shortfall_risk = len([x for x in sp501['Value'] if x < 5])/len(sp501)*100\n",
    "shortfall_risk"
   ]
  },
  {
   "cell_type": "markdown",
   "metadata": {},
   "source": [
    "What about the magnitude of the downside deviation when it does happen?"
   ]
  },
  {
   "cell_type": "markdown",
   "metadata": {},
   "source": [
    "Expected downside value\n",
    "\n",
    "$expected \\ downside = \\frac{\\sum x_i - target \\ return \\ where \\ x_i < target \\ return}{N}$"
   ]
  },
  {
   "cell_type": "code",
   "execution_count": 83,
   "metadata": {},
   "outputs": [
    {
     "data": {
      "text/plain": [
       "-5.2238202247191019"
      ]
     },
     "execution_count": 83,
     "metadata": {},
     "output_type": "execute_result"
    }
   ],
   "source": [
    "expected_downside_value = sum([(x-5) for x in sp501['Value'] if x < 5])/len(sp501)\n",
    "expected_downside_value"
   ]
  },
  {
   "cell_type": "markdown",
   "metadata": {},
   "source": [
    "## Now looking at relative risk.\n",
    "Relative to what?\n",
    "\n",
    "Concept of benchmark\n",
    "\n",
    "> Practitioners have come to accept that a peer group universe does not fulfill all of the requirements for a good \n",
    "> measure of relative performance. Jeffrey Bailey set out the criteria of a good performance comparison benchmark, \n",
    "> which is “unambiguous, investable, measurable, appropriate, and specified in advance.” \n",
    "\n",
    "> Jeffrey Bailey\n",
    "\n",
    "Overall, two types of benchmarking:\n",
    "1. To a standard i.e. index\n",
    "2. To your peer group\n",
    "\n",
    "Significantly easier/standardized in some asset classes than others for example.\n",
    "\n",
    "\"But, what I do is so special and unique and wonderful that I don't have a benchmark...\"\n",
    "\n",
    "Silly."
   ]
  },
  {
   "cell_type": "code",
   "execution_count": 85,
   "metadata": {},
   "outputs": [
    {
     "data": {
      "text/html": [
       "<div>\n",
       "<style>\n",
       "    .dataframe thead tr:only-child th {\n",
       "        text-align: right;\n",
       "    }\n",
       "\n",
       "    .dataframe thead th {\n",
       "        text-align: left;\n",
       "    }\n",
       "\n",
       "    .dataframe tbody tr th {\n",
       "        vertical-align: top;\n",
       "    }\n",
       "</style>\n",
       "<table border=\"1\" class=\"dataframe\">\n",
       "  <thead>\n",
       "    <tr style=\"text-align: right;\">\n",
       "      <th></th>\n",
       "      <th>Unnamed: 0</th>\n",
       "      <th>Popular hedge fund index</th>\n",
       "      <th>S&amp;P 500</th>\n",
       "    </tr>\n",
       "  </thead>\n",
       "  <tbody>\n",
       "    <tr>\n",
       "      <th>0</th>\n",
       "      <td>30-01-15</td>\n",
       "      <td>-0.10</td>\n",
       "      <td>-3.10</td>\n",
       "    </tr>\n",
       "    <tr>\n",
       "      <th>1</th>\n",
       "      <td>28-02-15</td>\n",
       "      <td>2.20</td>\n",
       "      <td>5.49</td>\n",
       "    </tr>\n",
       "    <tr>\n",
       "      <th>2</th>\n",
       "      <td>30-03-15</td>\n",
       "      <td>0.42</td>\n",
       "      <td>-1.74</td>\n",
       "    </tr>\n",
       "    <tr>\n",
       "      <th>3</th>\n",
       "      <td>30-04-15</td>\n",
       "      <td>1.08</td>\n",
       "      <td>0.85</td>\n",
       "    </tr>\n",
       "    <tr>\n",
       "      <th>4</th>\n",
       "      <td>30-05-15</td>\n",
       "      <td>0.81</td>\n",
       "      <td>1.05</td>\n",
       "    </tr>\n",
       "    <tr>\n",
       "      <th>5</th>\n",
       "      <td>30-06-15</td>\n",
       "      <td>-1.09</td>\n",
       "      <td>-2.10</td>\n",
       "    </tr>\n",
       "    <tr>\n",
       "      <th>6</th>\n",
       "      <td>30-07-15</td>\n",
       "      <td>-0.55</td>\n",
       "      <td>1.97</td>\n",
       "    </tr>\n",
       "    <tr>\n",
       "      <th>7</th>\n",
       "      <td>30-08-15</td>\n",
       "      <td>-2.50</td>\n",
       "      <td>-6.26</td>\n",
       "    </tr>\n",
       "    <tr>\n",
       "      <th>8</th>\n",
       "      <td>30-09-15</td>\n",
       "      <td>-1.69</td>\n",
       "      <td>-2.64</td>\n",
       "    </tr>\n",
       "    <tr>\n",
       "      <th>9</th>\n",
       "      <td>30-10-15</td>\n",
       "      <td>2.22</td>\n",
       "      <td>8.30</td>\n",
       "    </tr>\n",
       "    <tr>\n",
       "      <th>10</th>\n",
       "      <td>30-11-15</td>\n",
       "      <td>0.22</td>\n",
       "      <td>0.05</td>\n",
       "    </tr>\n",
       "    <tr>\n",
       "      <th>11</th>\n",
       "      <td>30-12-15</td>\n",
       "      <td>-0.86</td>\n",
       "      <td>-1.75</td>\n",
       "    </tr>\n",
       "    <tr>\n",
       "      <th>12</th>\n",
       "      <td>30-01-16</td>\n",
       "      <td>-2.99</td>\n",
       "      <td>-5.07</td>\n",
       "    </tr>\n",
       "    <tr>\n",
       "      <th>13</th>\n",
       "      <td>28-02-16</td>\n",
       "      <td>-0.35</td>\n",
       "      <td>-0.41</td>\n",
       "    </tr>\n",
       "    <tr>\n",
       "      <th>14</th>\n",
       "      <td>30-03-16</td>\n",
       "      <td>2.45</td>\n",
       "      <td>6.60</td>\n",
       "    </tr>\n",
       "    <tr>\n",
       "      <th>15</th>\n",
       "      <td>30-04-16</td>\n",
       "      <td>1.03</td>\n",
       "      <td>0.27</td>\n",
       "    </tr>\n",
       "    <tr>\n",
       "      <th>16</th>\n",
       "      <td>30-05-16</td>\n",
       "      <td>0.62</td>\n",
       "      <td>1.53</td>\n",
       "    </tr>\n",
       "    <tr>\n",
       "      <th>17</th>\n",
       "      <td>30-06-16</td>\n",
       "      <td>-0.04</td>\n",
       "      <td>0.09</td>\n",
       "    </tr>\n",
       "    <tr>\n",
       "      <th>18</th>\n",
       "      <td>30-07-16</td>\n",
       "      <td>2.04</td>\n",
       "      <td>3.56</td>\n",
       "    </tr>\n",
       "    <tr>\n",
       "      <th>19</th>\n",
       "      <td>30-08-16</td>\n",
       "      <td>0.73</td>\n",
       "      <td>-0.12</td>\n",
       "    </tr>\n",
       "    <tr>\n",
       "      <th>20</th>\n",
       "      <td>30-09-16</td>\n",
       "      <td>0.89</td>\n",
       "      <td>-0.12</td>\n",
       "    </tr>\n",
       "    <tr>\n",
       "      <th>21</th>\n",
       "      <td>30-10-16</td>\n",
       "      <td>-0.31</td>\n",
       "      <td>-1.94</td>\n",
       "    </tr>\n",
       "    <tr>\n",
       "      <th>22</th>\n",
       "      <td>30-11-16</td>\n",
       "      <td>0.82</td>\n",
       "      <td>3.42</td>\n",
       "    </tr>\n",
       "    <tr>\n",
       "      <th>23</th>\n",
       "      <td>30-12-16</td>\n",
       "      <td>1.14</td>\n",
       "      <td>1.82</td>\n",
       "    </tr>\n",
       "  </tbody>\n",
       "</table>\n",
       "</div>"
      ],
      "text/plain": [
       "   Unnamed: 0  Popular hedge fund index  S&P 500\n",
       "0    30-01-15                     -0.10    -3.10\n",
       "1    28-02-15                      2.20     5.49\n",
       "2    30-03-15                      0.42    -1.74\n",
       "3    30-04-15                      1.08     0.85\n",
       "4    30-05-15                      0.81     1.05\n",
       "5    30-06-15                     -1.09    -2.10\n",
       "6    30-07-15                     -0.55     1.97\n",
       "7    30-08-15                     -2.50    -6.26\n",
       "8    30-09-15                     -1.69    -2.64\n",
       "9    30-10-15                      2.22     8.30\n",
       "10   30-11-15                      0.22     0.05\n",
       "11   30-12-15                     -0.86    -1.75\n",
       "12   30-01-16                     -2.99    -5.07\n",
       "13   28-02-16                     -0.35    -0.41\n",
       "14   30-03-16                      2.45     6.60\n",
       "15   30-04-16                      1.03     0.27\n",
       "16   30-05-16                      0.62     1.53\n",
       "17   30-06-16                     -0.04     0.09\n",
       "18   30-07-16                      2.04     3.56\n",
       "19   30-08-16                      0.73    -0.12\n",
       "20   30-09-16                      0.89    -0.12\n",
       "21   30-10-16                     -0.31    -1.94\n",
       "22   30-11-16                      0.82     3.42\n",
       "23   30-12-16                      1.14     1.82"
      ]
     },
     "execution_count": 85,
     "metadata": {},
     "output_type": "execute_result"
    }
   ],
   "source": [
    "#Download monthly returns for period 2015-2016 from Barclay Hedge Fund Index:\n",
    "\n",
    "#https://www.barclayhedge.com/research/indices/ghs/Hedge_Fund_Index.html\n",
    "\n",
    "#Many thanks to Barclay Hedge for making this data publicly available.\n",
    "\n",
    "#copy monthly returns for S&P 500 for those two years in the same file as the Barclay Hedge Fund Index\n",
    "\n",
    "returns = pd.read_csv(\"Hedge Fund Index vs SP 500 returns.csv\")\n",
    "returns.head(24)"
   ]
  },
  {
   "cell_type": "code",
   "execution_count": 86,
   "metadata": {},
   "outputs": [
    {
     "data": {
      "text/plain": [
       "Index(['Unnamed: 0', 'Popular hedge fund index', 'S&P 500'], dtype='object')"
      ]
     },
     "execution_count": 86,
     "metadata": {},
     "output_type": "execute_result"
    }
   ],
   "source": [
    "returns.set_index(returns['Unnamed: 0'], inplace = True)\n",
    "returns.columns"
   ]
  },
  {
   "cell_type": "code",
   "execution_count": 87,
   "metadata": {},
   "outputs": [],
   "source": [
    "returns.drop('Unnamed: 0', axis = 1, inplace=True)"
   ]
  },
  {
   "cell_type": "code",
   "execution_count": 89,
   "metadata": {},
   "outputs": [
    {
     "data": {
      "text/html": [
       "<div>\n",
       "<style>\n",
       "    .dataframe thead tr:only-child th {\n",
       "        text-align: right;\n",
       "    }\n",
       "\n",
       "    .dataframe thead th {\n",
       "        text-align: left;\n",
       "    }\n",
       "\n",
       "    .dataframe tbody tr th {\n",
       "        vertical-align: top;\n",
       "    }\n",
       "</style>\n",
       "<table border=\"1\" class=\"dataframe\">\n",
       "  <thead>\n",
       "    <tr style=\"text-align: right;\">\n",
       "      <th></th>\n",
       "      <th>Popular hedge fund index</th>\n",
       "      <th>S&amp;P 500</th>\n",
       "    </tr>\n",
       "    <tr>\n",
       "      <th>Unnamed: 0</th>\n",
       "      <th></th>\n",
       "      <th></th>\n",
       "    </tr>\n",
       "  </thead>\n",
       "  <tbody>\n",
       "    <tr>\n",
       "      <th>30-01-15</th>\n",
       "      <td>-0.10</td>\n",
       "      <td>-3.10</td>\n",
       "    </tr>\n",
       "    <tr>\n",
       "      <th>28-02-15</th>\n",
       "      <td>2.20</td>\n",
       "      <td>5.49</td>\n",
       "    </tr>\n",
       "    <tr>\n",
       "      <th>30-03-15</th>\n",
       "      <td>0.42</td>\n",
       "      <td>-1.74</td>\n",
       "    </tr>\n",
       "    <tr>\n",
       "      <th>30-04-15</th>\n",
       "      <td>1.08</td>\n",
       "      <td>0.85</td>\n",
       "    </tr>\n",
       "    <tr>\n",
       "      <th>30-05-15</th>\n",
       "      <td>0.81</td>\n",
       "      <td>1.05</td>\n",
       "    </tr>\n",
       "  </tbody>\n",
       "</table>\n",
       "</div>"
      ],
      "text/plain": [
       "            Popular hedge fund index  S&P 500\n",
       "Unnamed: 0                                   \n",
       "30-01-15                       -0.10    -3.10\n",
       "28-02-15                        2.20     5.49\n",
       "30-03-15                        0.42    -1.74\n",
       "30-04-15                        1.08     0.85\n",
       "30-05-15                        0.81     1.05"
      ]
     },
     "execution_count": 89,
     "metadata": {},
     "output_type": "execute_result"
    }
   ],
   "source": [
    "returns.head()"
   ]
  },
  {
   "cell_type": "code",
   "execution_count": 103,
   "metadata": {},
   "outputs": [
    {
     "name": "stdout",
     "output_type": "stream",
     "text": [
      "Populating the interactive namespace from numpy and matplotlib\n"
     ]
    },
    {
     "name": "stderr",
     "output_type": "stream",
     "text": [
      "/Users/iht/anaconda3/lib/python3.6/site-packages/IPython/core/magics/pylab.py:160: UserWarning: pylab import has clobbered these variables: ['mean']\n",
      "`%matplotlib` prevents importing * from pylab and numpy\n",
      "  \"\\n`%matplotlib` prevents importing * from pylab and numpy\"\n"
     ]
    }
   ],
   "source": [
    "%pylab inline\n",
    "sns.set()\n",
    "sns.set_context('talk')"
   ]
  },
  {
   "cell_type": "code",
   "execution_count": 106,
   "metadata": {},
   "outputs": [
    {
     "data": {
      "text/plain": [
       "<matplotlib.axes._subplots.AxesSubplot at 0x118f5f8d0>"
      ]
     },
     "execution_count": 106,
     "metadata": {},
     "output_type": "execute_result"
    },
    {
     "data": {
      "image/png": "[encoded data removed]",
      "text/plain": [
       "<matplotlib.figure.Figure at 0x118f5f940>"
      ]
     },
     "metadata": {},
     "output_type": "display_data"
    }
   ],
   "source": [
    "#let's visualize the two return streams, keeping an eye open for association\n",
    "returns_copy = returns.copy()\n",
    "returns_copy.columns = [\"hedgeFundIndex\", \"SP500\"]\n",
    "plt.figure(figsize=(10,6))\n",
    "sns.regplot(x='S&P 500', y = 'Popular hedge fund index', data = returns)"
   ]
  },
  {
   "cell_type": "markdown",
   "metadata": {},
   "source": [
    "What does this dispersion tell us? How else could it look?"
   ]
  },
  {
   "cell_type": "markdown",
   "metadata": {},
   "source": [
    "Covariance. Powerful but of limited use by itself.\n",
    "\n",
    "What is correlation?\n",
    "\n",
    "Amount by which two return streams vary together. Correlation captures the direction and magnitude of this variation.\n",
    "\n",
    "Formula:\n",
    "\n",
    "$Correlation \\ = \\ \\frac {covariance}{stdev \\ (fund \\ returns) * stdev \\ (benchmark \\ returns)}$"
   ]
  },
  {
   "cell_type": "code",
   "execution_count": 107,
   "metadata": {},
   "outputs": [
    {
     "data": {
      "text/html": [
       "<div>\n",
       "<style>\n",
       "    .dataframe thead tr:only-child th {\n",
       "        text-align: right;\n",
       "    }\n",
       "\n",
       "    .dataframe thead th {\n",
       "        text-align: left;\n",
       "    }\n",
       "\n",
       "    .dataframe tbody tr th {\n",
       "        vertical-align: top;\n",
       "    }\n",
       "</style>\n",
       "<table border=\"1\" class=\"dataframe\">\n",
       "  <thead>\n",
       "    <tr style=\"text-align: right;\">\n",
       "      <th></th>\n",
       "      <th>Popular hedge fund index</th>\n",
       "      <th>S&amp;P 500</th>\n",
       "    </tr>\n",
       "  </thead>\n",
       "  <tbody>\n",
       "    <tr>\n",
       "      <th>Popular hedge fund index</th>\n",
       "      <td>1.000000</td>\n",
       "      <td>0.877012</td>\n",
       "    </tr>\n",
       "    <tr>\n",
       "      <th>S&amp;P 500</th>\n",
       "      <td>0.877012</td>\n",
       "      <td>1.000000</td>\n",
       "    </tr>\n",
       "  </tbody>\n",
       "</table>\n",
       "</div>"
      ],
      "text/plain": [
       "                          Popular hedge fund index   S&P 500\n",
       "Popular hedge fund index                  1.000000  0.877012\n",
       "S&P 500                                   0.877012  1.000000"
      ]
     },
     "execution_count": 107,
     "metadata": {},
     "output_type": "execute_result"
    }
   ],
   "source": [
    "correlation = returns.corr()\n",
    "correlation"
   ]
  },
  {
   "cell_type": "markdown",
   "metadata": {},
   "source": [
    "Issues with correlation as a measure:\n",
    "\n",
    "Easy to interpret at its extremes, but much fuzzier when the value is somewhere in the middle of the possible range.\n",
    "\n",
    "By the way, what is its range of possible values?\n",
    "\n",
    "What is the rule of thumb for being \"uncorrelated\" in applied investing?\n",
    "\n",
    "Normally, under 0.3 is called undercorrelated.\n",
    "\n",
    "Idea: apply bootstrapping to estimate the distribution of correlation coefficientes across a set of known funds? That could give values to set thresholds to consider if a fund is correlated or not to an index."
   ]
  },
  {
   "cell_type": "code",
   "execution_count": 109,
   "metadata": {},
   "outputs": [
    {
     "data": {
      "text/plain": [
       "0.769150048144"
      ]
     },
     "execution_count": 109,
     "metadata": {},
     "output_type": "execute_result"
    }
   ],
   "source": [
    "#Coefficient of determination\n",
    "#square of the correlation coefficient\n",
    "#easier to interpret: proportion of portfolio returns that can be explained by variability in benchmark returns\n",
    "r_squared = 0.877012**2\n",
    "r_squared"
   ]
  },
  {
   "cell_type": "markdown",
   "metadata": {},
   "source": [
    "How do you interpret it?\n",
    "\n",
    "What is the range of its possible values?\n",
    "\n",
    "What is the coefficient of nondetermination?"
   ]
  },
  {
   "cell_type": "markdown",
   "metadata": {},
   "source": [
    "## Alpha and beta\n",
    "\n",
    "What is alpha?\n",
    "\n",
    "Alpha remains an elusive concept.\n",
    "\n",
    "Identifiable, in a strict sense, via a classic linear regression analysis.\n",
    "Average fund return = alpha + beta * average benchmark return\n",
    "\n",
    "What is beta?\n",
    "\n",
    "Magnitude of variability in fund returns, given variability in benchmark returns."
   ]
  },
  {
   "cell_type": "code",
   "execution_count": 110,
   "metadata": {},
   "outputs": [
    {
     "name": "stdout",
     "output_type": "stream",
     "text": [
      "                            OLS Regression Results                            \n",
      "==============================================================================\n",
      "Dep. Variable:         hedgeFundIndex   R-squared:                       0.769\n",
      "Model:                            OLS   Adj. R-squared:                  0.759\n",
      "Method:                 Least Squares   F-statistic:                     73.30\n",
      "Date:                Sat, 14 Oct 2017   Prob (F-statistic):           1.88e-08\n",
      "Time:                        16:41:14   Log-Likelihood:                -24.173\n",
      "No. Observations:                  24   AIC:                             52.35\n",
      "Df Residuals:                      22   BIC:                             54.70\n",
      "Df Model:                           1                                         \n",
      "Covariance Type:            nonrobust                                         \n",
      "==============================================================================\n",
      "                 coef    std err          t      P>|t|      [0.025      0.975]\n",
      "------------------------------------------------------------------------------\n",
      "Intercept      0.1115      0.142      0.784      0.441      -0.184       0.407\n",
      "SP500          0.3603      0.042      8.562      0.000       0.273       0.448\n",
      "==============================================================================\n",
      "Omnibus:                        1.292   Durbin-Watson:                   1.062\n",
      "Prob(Omnibus):                  0.524   Jarque-Bera (JB):                1.152\n",
      "Skew:                          -0.384   Prob(JB):                        0.562\n",
      "Kurtosis:                       2.250   Cond. No.                         3.41\n",
      "==============================================================================\n",
      "\n",
      "Warnings:\n",
      "[1] Standard Errors assume that the covariance matrix of the errors is correctly specified.\n"
     ]
    }
   ],
   "source": [
    "formula = \"hedgeFundIndex ~ SP500\"\n",
    "test1 = smf.ols(formula, data = returns_copy).fit()\n",
    "print(test1.summary())"
   ]
  },
  {
   "cell_type": "markdown",
   "metadata": {},
   "source": [
    "In the example above, you cannot say if the alpha (intercept) is different than zero, as the confidence interval contains zero. The test assume that the data is normally distributed. If it is not normal, it should be tested by a non-parametric method, e.g. bootstrapping."
   ]
  },
  {
   "cell_type": "markdown",
   "metadata": {},
   "source": [
    "What does this beta tell us?\n",
    "Is it high or low?\n",
    "\n",
    "!A higher beta implies that the fund has taken on more benchmark relative risk.\n",
    "How do we read the alpha and beta here?\n",
    "\n",
    "Why bother with the beta if we have the correlation already?\n",
    "\n",
    "Question: if a fund has a very high beta, does that mean that its returns are roughly similar to those of the benchmark?\n",
    "\n",
    "What does a beta of 1 mean?"
   ]
  },
  {
   "cell_type": "code",
   "execution_count": 111,
   "metadata": {},
   "outputs": [
    {
     "data": {
      "text/plain": [
       "2.555605787383672"
      ]
     },
     "execution_count": 111,
     "metadata": {},
     "output_type": "execute_result"
    }
   ],
   "source": [
    "#Alpha\n",
    "alpha = 0.1115\n",
    "annualized_alpha = (1+alpha)**12 - 1\n",
    "annualized_alpha"
   ]
  },
  {
   "cell_type": "code",
   "execution_count": null,
   "metadata": {
    "collapsed": true
   },
   "outputs": [],
   "source": [
    "#Check the following\n",
    "#https://www.evestment.com/resources/investment-statistics-guide/relative-risk-adjusted-return-measures-and-annualized-alpha/\n",
    "#https://admainnew.morningstar.com/webhelp/glossary_definitions/mutual_fund/glossary_all_Alpha.html"
   ]
  },
  {
   "cell_type": "markdown",
   "metadata": {},
   "source": [
    "An aside through the long only world\n",
    "\n",
    "$tracking \\ risk = stdev(mean \\ fund \\ return)* \\sqrt(1-(correlation)^2)$"
   ]
  },
  {
   "cell_type": "code",
   "execution_count": 112,
   "metadata": {},
   "outputs": [
    {
     "data": {
      "text/plain": [
       "0.6767632235864324"
      ]
     },
     "execution_count": 112,
     "metadata": {},
     "output_type": "execute_result"
    }
   ],
   "source": [
    "tracking_risk = returns['Popular hedge fund index'].std() * math.sqrt(1-((pearsonr(returns['Popular hedge fund index'], returns['S&P 500']))[0])**2)\n",
    "tracking_risk"
   ]
  },
  {
   "cell_type": "code",
   "execution_count": 113,
   "metadata": {},
   "outputs": [
    {
     "data": {
      "text/plain": [
       "2.3443765758915935"
      ]
     },
     "execution_count": 113,
     "metadata": {},
     "output_type": "execute_result"
    }
   ],
   "source": [
    "#Annualized tracking risk\n",
    "tracking_risk * math.sqrt(12)"
   ]
  },
  {
   "cell_type": "markdown",
   "metadata": {
    "collapsed": true
   },
   "source": [
    "When and why bother with tracking risk?\n",
    "\n",
    "Degree of difference in fund returns and benchmarl returns over time.\n",
    "\n",
    "Units?"
   ]
  },
  {
   "cell_type": "markdown",
   "metadata": {},
   "source": [
    "# Moving on to relative risk/return measures"
   ]
  },
  {
   "cell_type": "markdown",
   "metadata": {},
   "source": [
    "Concept: systematic vs unsystematic risk.\n",
    "\n",
    "The Sharpe ratio, a risk adjusted measure of excess return\n",
    "\n",
    "Instead of only measuring return, it measures excess return per unit of deviation of an investment's returns\n",
    "\n",
    "Key concept: with summary metrics in general you are trying to capture more (relevant) information in your metric\n",
    "\n",
    "Formula:\n",
    "\n",
    "$Sharpe = \\frac{annual \\ mean \\ fund \\ return - annual \\ mean \\ risk \\ free \\ return}{annualized \\ stdev}$\n",
    "\n",
    "What is a risk free investment? How to choose a proxy for it here?"
   ]
  },
  {
   "cell_type": "code",
   "execution_count": 117,
   "metadata": {},
   "outputs": [
    {
     "data": {
      "text/plain": [
       "-0.3648023383666347"
      ]
     },
     "execution_count": 117,
     "metadata": {},
     "output_type": "execute_result"
    }
   ],
   "source": [
    "# Here the return has not been corrected for risk (returns_copy['SP500'] is the returns including the risk/volatility)\n",
    "\n",
    "sharpe = (returns_copy['hedgeFundIndex'].mean() - returns_copy['SP500'].mean()) / (returns_copy['hedgeFundIndex'].std())\n",
    "sharpe * math.sqrt(12)"
   ]
  },
  {
   "cell_type": "markdown",
   "metadata": {},
   "source": [
    "!attention - while our returns are monthly here, we should have used the annual means in the Sharpe and not the monthly ones\n",
    "we annualized following a standard annualization technique but this only holds in special circumstances\n",
    "See: http://www.edge-fund.com/Lo02.pdf"
   ]
  },
  {
   "cell_type": "code",
   "execution_count": 118,
   "metadata": {},
   "outputs": [
    {
     "data": {
      "text/html": [
       "<div>\n",
       "<style>\n",
       "    .dataframe thead tr:only-child th {\n",
       "        text-align: right;\n",
       "    }\n",
       "\n",
       "    .dataframe thead th {\n",
       "        text-align: left;\n",
       "    }\n",
       "\n",
       "    .dataframe tbody tr th {\n",
       "        vertical-align: top;\n",
       "    }\n",
       "</style>\n",
       "<table border=\"1\" class=\"dataframe\">\n",
       "  <thead>\n",
       "    <tr style=\"text-align: right;\">\n",
       "      <th></th>\n",
       "      <th>hedgeFundIndex</th>\n",
       "      <th>SP500</th>\n",
       "    </tr>\n",
       "    <tr>\n",
       "      <th>Unnamed: 0</th>\n",
       "      <th></th>\n",
       "      <th></th>\n",
       "    </tr>\n",
       "  </thead>\n",
       "  <tbody>\n",
       "    <tr>\n",
       "      <th>30-01-15</th>\n",
       "      <td>-0.10</td>\n",
       "      <td>-3.10</td>\n",
       "    </tr>\n",
       "    <tr>\n",
       "      <th>28-02-15</th>\n",
       "      <td>2.20</td>\n",
       "      <td>5.49</td>\n",
       "    </tr>\n",
       "    <tr>\n",
       "      <th>30-03-15</th>\n",
       "      <td>0.42</td>\n",
       "      <td>-1.74</td>\n",
       "    </tr>\n",
       "    <tr>\n",
       "      <th>30-04-15</th>\n",
       "      <td>1.08</td>\n",
       "      <td>0.85</td>\n",
       "    </tr>\n",
       "    <tr>\n",
       "      <th>30-05-15</th>\n",
       "      <td>0.81</td>\n",
       "      <td>1.05</td>\n",
       "    </tr>\n",
       "  </tbody>\n",
       "</table>\n",
       "</div>"
      ],
      "text/plain": [
       "            hedgeFundIndex  SP500\n",
       "Unnamed: 0                       \n",
       "30-01-15             -0.10  -3.10\n",
       "28-02-15              2.20   5.49\n",
       "30-03-15              0.42  -1.74\n",
       "30-04-15              1.08   0.85\n",
       "30-05-15              0.81   1.05"
      ]
     },
     "execution_count": 118,
     "metadata": {},
     "output_type": "execute_result"
    }
   ],
   "source": [
    "returns_copy.head(5)"
   ]
  },
  {
   "cell_type": "markdown",
   "metadata": {},
   "source": [
    "What do you think of this Sharpe ratio?"
   ]
  },
  {
   "cell_type": "markdown",
   "metadata": {},
   "source": [
    "What do you think of its two major drawbacks?\n",
    "\n",
    "1. Penalizes upside and downside deviation equally. Few of us will be upset over a much higher performance than average last month\n",
    "\n",
    "2. If you were trying to increase your Sharpe, how would you do it? Hint: look at the formula carefully."
   ]
  },
  {
   "cell_type": "markdown",
   "metadata": {},
   "source": [
    "What if instead of returns to absolute risk, we want to look at returns relative to systematic/market risk?\n",
    "\n",
    "We use beta as a proxy of market risk: the Treynor ratio. Instead of using the stdev in the denominator, as with the Sharpe ratio, we use beta i.e. market risk.\n",
    "\n",
    "Formula:\n",
    "$Treynor = \\frac{mean \\ fund \\ return - mean \\ risk \\ free \\ return}{beta}$"
   ]
  },
  {
   "cell_type": "code",
   "execution_count": 119,
   "metadata": {},
   "outputs": [
    {
     "data": {
      "text/plain": [
       "-0.412037037037037"
      ]
     },
     "execution_count": 119,
     "metadata": {},
     "output_type": "execute_result"
    }
   ],
   "source": [
    "treynor = (returns_copy['hedgeFundIndex'].mean() - returns_copy['SP500'].mean()) / 0.36\n",
    "treynor"
   ]
  },
  {
   "cell_type": "markdown",
   "metadata": {},
   "source": [
    "A harsher measure of risk adjusted return: the Sortino ratio\n",
    "\n",
    "created by Dr Frank Sortino of the Pension Research Institute\n",
    "\n",
    "a modification of sharpe ratio: downside deviation as denominator and target return subtracted in numerator\n",
    "\n",
    "Interpretation: excess return to downside risk\n",
    "\n",
    "$Sortino = \\frac{(mean \\ fund \\ return - target \\ return) * P}{\\sqrt \\frac {\\sum (fund \\ return - T) ^2 if \\ fund \\ return < T}{N}* \\sqrt P}$\n",
    "\n",
    "It is using the downside deviation instead of the standard dev., compared to the Sharpe ratio"
   ]
  },
  {
   "cell_type": "code",
   "execution_count": 120,
   "metadata": {
    "collapsed": true
   },
   "outputs": [],
   "source": [
    "t = 1.1\n",
    "def sortino_step_1(x):\n",
    "    if x < t:\n",
    "        return x\n",
    "    else: \n",
    "        return 0"
   ]
  },
  {
   "cell_type": "code",
   "execution_count": 121,
   "metadata": {},
   "outputs": [],
   "source": [
    "returns_copy['sortino_step_1'] = returns_copy['hedgeFundIndex'].apply(sortino_step_1)"
   ]
  },
  {
   "cell_type": "code",
   "execution_count": 122,
   "metadata": {
    "collapsed": true
   },
   "outputs": [],
   "source": [
    "def sortino_step_2(x):\n",
    "    if x != 0:\n",
    "        return (x-t) ** 2\n",
    "    else:\n",
    "        return 0"
   ]
  },
  {
   "cell_type": "code",
   "execution_count": 123,
   "metadata": {},
   "outputs": [
    {
     "data": {
      "text/plain": [
       "Unnamed: 0\n",
       "30-01-15     1.4400\n",
       "28-02-15     0.0000\n",
       "30-03-15     0.4624\n",
       "30-04-15     0.0004\n",
       "30-05-15     0.0841\n",
       "30-06-15     4.7961\n",
       "30-07-15     2.7225\n",
       "30-08-15    12.9600\n",
       "30-09-15     7.7841\n",
       "30-10-15     0.0000\n",
       "30-11-15     0.7744\n",
       "30-12-15     3.8416\n",
       "30-01-16    16.7281\n",
       "28-02-16     2.1025\n",
       "30-03-16     0.0000\n",
       "30-04-16     0.0049\n",
       "30-05-16     0.2304\n",
       "30-06-16     1.2996\n",
       "30-07-16     0.0000\n",
       "30-08-16     0.1369\n",
       "30-09-16     0.0441\n",
       "30-10-16     1.9881\n",
       "30-11-16     0.0784\n",
       "30-12-16     0.0000\n",
       "Name: sortino_step_2, dtype: float64"
      ]
     },
     "execution_count": 123,
     "metadata": {},
     "output_type": "execute_result"
    }
   ],
   "source": [
    "returns_copy['sortino_step_2'] = returns_copy['sortino_step_1'].apply(sortino_step_2)\n",
    "returns_copy['sortino_step_2']"
   ]
  },
  {
   "cell_type": "code",
   "execution_count": 124,
   "metadata": {},
   "outputs": [
    {
     "data": {
      "text/plain": [
       "-1.8849430134045686"
      ]
     },
     "execution_count": 124,
     "metadata": {},
     "output_type": "execute_result"
    }
   ],
   "source": [
    "sortino = ((returns_copy['hedgeFundIndex'].mean() - t) * 12) / (math.sqrt(returns_copy['sortino_step_2'].sum()/len(returns_copy)) * math.sqrt(12))\n",
    "sortino"
   ]
  },
  {
   "cell_type": "markdown",
   "metadata": {},
   "source": [
    "As a rule of thumb, when is Sortino higher than Sharpe and vice versa?"
   ]
  },
  {
   "cell_type": "markdown",
   "metadata": {},
   "source": [
    "Information ratio\n",
    "\n",
    "Active return divided by tracking error\n",
    "\n",
    "The benchmark linked return relative to benchmark linked risk\n",
    "\n",
    "Formula:\n",
    "\n",
    "$Annualized \\ IR = \\frac{ \\frac{\\sum(fund \\ return_i - benchmark \\ return_i)}{N} * \\sqrt P}{stdev(fund \\ return \\ i - market \\ return \\ i) * \\sqrt P}$"
   ]
  },
  {
   "cell_type": "code",
   "execution_count": 125,
   "metadata": {},
   "outputs": [
    {
     "data": {
      "text/plain": [
       "-0.06462367033338945"
      ]
     },
     "execution_count": 125,
     "metadata": {},
     "output_type": "execute_result"
    }
   ],
   "source": [
    "ir = ((returns_copy['hedgeFundIndex'] - returns_copy['SP500']).sum()/len(returns_copy) * math.sqrt(12)) / ((returns_copy['hedgeFundIndex'] - returns_copy['SP500']).std()*math.sqrt(12))\n",
    "ir"
   ]
  },
  {
   "cell_type": "markdown",
   "metadata": {},
   "source": [
    "Next step - something few people undertake. Test of significance of such a result.\n",
    "\n",
    "t statistic of value added - was it significant or not?\n",
    "\n",
    "based on statistical hypothesis test\n",
    "\n",
    "null hypothesis\n",
    "\n",
    "alternative hypothesis"
   ]
  },
  {
   "cell_type": "markdown",
   "metadata": {},
   "source": [
    "How is the information ratio read?\n",
    "What does a negative information ratio mean?"
   ]
  },
  {
   "cell_type": "markdown",
   "metadata": {},
   "source": [
    "$t \\ statistic \\ of \\ value \\ added = \\frac{Average (fund \\ return - benchmark \\ return)}{stdev \\ of \\ (average \\ fund \\ return - average \\ benchmark \\ return) / \\sqrt N}$"
   ]
  },
  {
   "cell_type": "code",
   "execution_count": 126,
   "metadata": {},
   "outputs": [
    {
     "data": {
      "text/plain": [
       "-0.316590035245278"
      ]
     },
     "execution_count": 126,
     "metadata": {},
     "output_type": "execute_result"
    }
   ],
   "source": [
    "t_statistic = ((returns_copy['hedgeFundIndex'] - returns_copy['SP500']).mean())/((returns_copy['hedgeFundIndex'] - returns_copy['SP500']).std() / math.sqrt(len(returns_copy)))\n",
    "t_statistic"
   ]
  },
  {
   "cell_type": "markdown",
   "metadata": {},
   "source": [
    "Can the t value be negative?\n",
    "What do we do with this?"
   ]
  },
  {
   "cell_type": "markdown",
   "metadata": {},
   "source": [
    "## Efficiency, skill, and attribution\n",
    "\n",
    "Mean PnL\n",
    "\n",
    "Mean Hold\n",
    "\n",
    "Batting average\n",
    "\n",
    "Win/Loss ratio"
   ]
  },
  {
   "cell_type": "code",
   "execution_count": 127,
   "metadata": {},
   "outputs": [
    {
     "data": {
      "text/html": [
       "<div>\n",
       "<style>\n",
       "    .dataframe thead tr:only-child th {\n",
       "        text-align: right;\n",
       "    }\n",
       "\n",
       "    .dataframe thead th {\n",
       "        text-align: left;\n",
       "    }\n",
       "\n",
       "    .dataframe tbody tr th {\n",
       "        vertical-align: top;\n",
       "    }\n",
       "</style>\n",
       "<table border=\"1\" class=\"dataframe\">\n",
       "  <thead>\n",
       "    <tr style=\"text-align: right;\">\n",
       "      <th></th>\n",
       "      <th>Position</th>\n",
       "      <th>Start</th>\n",
       "      <th>End</th>\n",
       "      <th>Days</th>\n",
       "      <th>Side</th>\n",
       "      <th>price1</th>\n",
       "      <th>price2</th>\n",
       "      <th>PnL</th>\n",
       "      <th>alpha</th>\n",
       "      <th>Pnl&gt;0</th>\n",
       "      <th>PosPnL</th>\n",
       "      <th>NegPnL</th>\n",
       "      <th>Unnamed: 12</th>\n",
       "      <th>Unnamed: 13</th>\n",
       "      <th>Unnamed: 14</th>\n",
       "      <th>Unnamed: 15</th>\n",
       "      <th>Unnamed: 16</th>\n",
       "      <th>Unnamed: 17</th>\n",
       "    </tr>\n",
       "  </thead>\n",
       "  <tbody>\n",
       "    <tr>\n",
       "      <th>0</th>\n",
       "      <td>AALBERTS INDUSTRIES</td>\n",
       "      <td>2/19/16</td>\n",
       "      <td>6/16/16</td>\n",
       "      <td>82</td>\n",
       "      <td>1</td>\n",
       "      <td>31.9264</td>\n",
       "      <td>31.7362</td>\n",
       "      <td>0.60</td>\n",
       "      <td>5.998586</td>\n",
       "      <td>True</td>\n",
       "      <td>0.599316</td>\n",
       "      <td>NaN</td>\n",
       "      <td>NaN</td>\n",
       "      <td>Trade Statistic</td>\n",
       "      <td>Value</td>\n",
       "      <td>Recc</td>\n",
       "      <td>NaN</td>\n",
       "      <td>NaN</td>\n",
       "    </tr>\n",
       "    <tr>\n",
       "      <th>1</th>\n",
       "      <td>AALBERTS INDUSTRIES</td>\n",
       "      <td>6/23/16</td>\n",
       "      <td>7/6/16</td>\n",
       "      <td>9</td>\n",
       "      <td>1</td>\n",
       "      <td>28.8045</td>\n",
       "      <td>34.2914</td>\n",
       "      <td>-16.00</td>\n",
       "      <td>-12.186828</td>\n",
       "      <td>False</td>\n",
       "      <td>NaN</td>\n",
       "      <td>16.000805</td>\n",
       "      <td>NaN</td>\n",
       "      <td># Trades</td>\n",
       "      <td>527.00</td>\n",
       "      <td>527.00</td>\n",
       "      <td>NaN</td>\n",
       "      <td>NaN</td>\n",
       "    </tr>\n",
       "    <tr>\n",
       "      <th>2</th>\n",
       "      <td>ABBOTT LABORATORIES CMN</td>\n",
       "      <td>6/28/16</td>\n",
       "      <td>9/12/16</td>\n",
       "      <td>53</td>\n",
       "      <td>1</td>\n",
       "      <td>41.4200</td>\n",
       "      <td>37.5600</td>\n",
       "      <td>10.28</td>\n",
       "      <td>10.097234</td>\n",
       "      <td>True</td>\n",
       "      <td>10.276890</td>\n",
       "      <td>NaN</td>\n",
       "      <td>NaN</td>\n",
       "      <td>Mean PnL%</td>\n",
       "      <td>0.69</td>\n",
       "      <td>0.69</td>\n",
       "      <td>NaN</td>\n",
       "      <td>NaN</td>\n",
       "    </tr>\n",
       "    <tr>\n",
       "      <th>3</th>\n",
       "      <td>ACCENTURE PLC CMN</td>\n",
       "      <td>11/23/15</td>\n",
       "      <td>1/4/16</td>\n",
       "      <td>21</td>\n",
       "      <td>1</td>\n",
       "      <td>101.8300</td>\n",
       "      <td>107.8400</td>\n",
       "      <td>-5.57</td>\n",
       "      <td>-0.743019</td>\n",
       "      <td>False</td>\n",
       "      <td>NaN</td>\n",
       "      <td>5.573071</td>\n",
       "      <td>NaN</td>\n",
       "      <td>Mean Hold (Days)</td>\n",
       "      <td>37.57</td>\n",
       "      <td>37.57</td>\n",
       "      <td>NaN</td>\n",
       "      <td>0.69</td>\n",
       "    </tr>\n",
       "    <tr>\n",
       "      <th>4</th>\n",
       "      <td>ACS ACTIVIDADES DE CONST.Y SERVICIOS SA</td>\n",
       "      <td>1/4/16</td>\n",
       "      <td>2/24/16</td>\n",
       "      <td>37</td>\n",
       "      <td>-1</td>\n",
       "      <td>23.7335</td>\n",
       "      <td>27.9679</td>\n",
       "      <td>15.14</td>\n",
       "      <td>-0.695100</td>\n",
       "      <td>True</td>\n",
       "      <td>15.140214</td>\n",
       "      <td>NaN</td>\n",
       "      <td>NaN</td>\n",
       "      <td>Batting Average%</td>\n",
       "      <td>45.35</td>\n",
       "      <td>45.35</td>\n",
       "      <td>NaN</td>\n",
       "      <td>NaN</td>\n",
       "    </tr>\n",
       "  </tbody>\n",
       "</table>\n",
       "</div>"
      ],
      "text/plain": [
       "                                  Position     Start      End  Days  Side  \\\n",
       "0                      AALBERTS INDUSTRIES   2/19/16  6/16/16    82     1   \n",
       "1                      AALBERTS INDUSTRIES   6/23/16   7/6/16     9     1   \n",
       "2                  ABBOTT LABORATORIES CMN   6/28/16  9/12/16    53     1   \n",
       "3                        ACCENTURE PLC CMN  11/23/15   1/4/16    21     1   \n",
       "4  ACS ACTIVIDADES DE CONST.Y SERVICIOS SA    1/4/16  2/24/16    37    -1   \n",
       "\n",
       "     price1    price2    PnL      alpha  Pnl>0     PosPnL     NegPnL  \\\n",
       "0   31.9264   31.7362   0.60   5.998586   True   0.599316        NaN   \n",
       "1   28.8045   34.2914 -16.00 -12.186828  False        NaN  16.000805   \n",
       "2   41.4200   37.5600  10.28  10.097234   True  10.276890        NaN   \n",
       "3  101.8300  107.8400  -5.57  -0.743019  False        NaN   5.573071   \n",
       "4   23.7335   27.9679  15.14  -0.695100   True  15.140214        NaN   \n",
       "\n",
       "   Unnamed: 12       Unnamed: 13 Unnamed: 14 Unnamed: 15  Unnamed: 16  \\\n",
       "0          NaN   Trade Statistic       Value        Recc          NaN   \n",
       "1          NaN          # Trades      527.00      527.00          NaN   \n",
       "2          NaN         Mean PnL%        0.69        0.69          NaN   \n",
       "3          NaN  Mean Hold (Days)       37.57       37.57          NaN   \n",
       "4          NaN  Batting Average%       45.35       45.35          NaN   \n",
       "\n",
       "   Unnamed: 17  \n",
       "0          NaN  \n",
       "1          NaN  \n",
       "2          NaN  \n",
       "3         0.69  \n",
       "4          NaN  "
      ]
     },
     "execution_count": 127,
     "metadata": {},
     "output_type": "execute_result"
    }
   ],
   "source": [
    "#the following sections use data from a previous live model\n",
    "#Many thanks to Clarus Risk for providing this data.\n",
    "\n",
    "pnl = pd.read_csv(\"PnL_20170831.csv\")\n",
    "pnl.head()"
   ]
  },
  {
   "cell_type": "code",
   "execution_count": 128,
   "metadata": {},
   "outputs": [
    {
     "data": {
      "text/html": [
       "<div>\n",
       "<style>\n",
       "    .dataframe thead tr:only-child th {\n",
       "        text-align: right;\n",
       "    }\n",
       "\n",
       "    .dataframe thead th {\n",
       "        text-align: left;\n",
       "    }\n",
       "\n",
       "    .dataframe tbody tr th {\n",
       "        vertical-align: top;\n",
       "    }\n",
       "</style>\n",
       "<table border=\"1\" class=\"dataframe\">\n",
       "  <thead>\n",
       "    <tr style=\"text-align: right;\">\n",
       "      <th></th>\n",
       "      <th>Position</th>\n",
       "      <th>Start</th>\n",
       "      <th>End</th>\n",
       "      <th>Days</th>\n",
       "      <th>Side</th>\n",
       "      <th>price1</th>\n",
       "      <th>price2</th>\n",
       "      <th>PnL</th>\n",
       "      <th>alpha</th>\n",
       "    </tr>\n",
       "  </thead>\n",
       "  <tbody>\n",
       "    <tr>\n",
       "      <th>0</th>\n",
       "      <td>AALBERTS INDUSTRIES</td>\n",
       "      <td>2/19/16</td>\n",
       "      <td>6/16/16</td>\n",
       "      <td>82</td>\n",
       "      <td>1</td>\n",
       "      <td>31.9264</td>\n",
       "      <td>31.7362</td>\n",
       "      <td>0.60</td>\n",
       "      <td>5.998586</td>\n",
       "    </tr>\n",
       "    <tr>\n",
       "      <th>1</th>\n",
       "      <td>AALBERTS INDUSTRIES</td>\n",
       "      <td>6/23/16</td>\n",
       "      <td>7/6/16</td>\n",
       "      <td>9</td>\n",
       "      <td>1</td>\n",
       "      <td>28.8045</td>\n",
       "      <td>34.2914</td>\n",
       "      <td>-16.00</td>\n",
       "      <td>-12.186828</td>\n",
       "    </tr>\n",
       "    <tr>\n",
       "      <th>2</th>\n",
       "      <td>ABBOTT LABORATORIES CMN</td>\n",
       "      <td>6/28/16</td>\n",
       "      <td>9/12/16</td>\n",
       "      <td>53</td>\n",
       "      <td>1</td>\n",
       "      <td>41.4200</td>\n",
       "      <td>37.5600</td>\n",
       "      <td>10.28</td>\n",
       "      <td>10.097234</td>\n",
       "    </tr>\n",
       "    <tr>\n",
       "      <th>3</th>\n",
       "      <td>ACCENTURE PLC CMN</td>\n",
       "      <td>11/23/15</td>\n",
       "      <td>1/4/16</td>\n",
       "      <td>21</td>\n",
       "      <td>1</td>\n",
       "      <td>101.8300</td>\n",
       "      <td>107.8400</td>\n",
       "      <td>-5.57</td>\n",
       "      <td>-0.743019</td>\n",
       "    </tr>\n",
       "    <tr>\n",
       "      <th>4</th>\n",
       "      <td>ACS ACTIVIDADES DE CONST.Y SERVICIOS SA</td>\n",
       "      <td>1/4/16</td>\n",
       "      <td>2/24/16</td>\n",
       "      <td>37</td>\n",
       "      <td>-1</td>\n",
       "      <td>23.7335</td>\n",
       "      <td>27.9679</td>\n",
       "      <td>15.14</td>\n",
       "      <td>-0.695100</td>\n",
       "    </tr>\n",
       "  </tbody>\n",
       "</table>\n",
       "</div>"
      ],
      "text/plain": [
       "                                  Position     Start      End  Days  Side  \\\n",
       "0                      AALBERTS INDUSTRIES   2/19/16  6/16/16    82     1   \n",
       "1                      AALBERTS INDUSTRIES   6/23/16   7/6/16     9     1   \n",
       "2                  ABBOTT LABORATORIES CMN   6/28/16  9/12/16    53     1   \n",
       "3                        ACCENTURE PLC CMN  11/23/15   1/4/16    21     1   \n",
       "4  ACS ACTIVIDADES DE CONST.Y SERVICIOS SA    1/4/16  2/24/16    37    -1   \n",
       "\n",
       "     price1    price2    PnL      alpha  \n",
       "0   31.9264   31.7362   0.60   5.998586  \n",
       "1   28.8045   34.2914 -16.00 -12.186828  \n",
       "2   41.4200   37.5600  10.28  10.097234  \n",
       "3  101.8300  107.8400  -5.57  -0.743019  \n",
       "4   23.7335   27.9679  15.14  -0.695100  "
      ]
     },
     "execution_count": 128,
     "metadata": {},
     "output_type": "execute_result"
    }
   ],
   "source": [
    "pnl = pnl.iloc[:, 0:9]\n",
    "pnl.head()"
   ]
  },
  {
   "cell_type": "code",
   "execution_count": 129,
   "metadata": {},
   "outputs": [
    {
     "data": {
      "text/plain": [
       "count    527.000000\n",
       "mean      37.565465\n",
       "std       46.789015\n",
       "min        1.000000\n",
       "25%        7.000000\n",
       "50%       19.000000\n",
       "75%       45.000000\n",
       "max      279.000000\n",
       "Name: Days, dtype: float64"
      ]
     },
     "execution_count": 129,
     "metadata": {},
     "output_type": "execute_result"
    }
   ],
   "source": [
    "pnl['Days'].describe()"
   ]
  },
  {
   "cell_type": "code",
   "execution_count": 130,
   "metadata": {},
   "outputs": [
    {
     "data": {
      "text/plain": [
       "37.56546489563567"
      ]
     },
     "execution_count": 130,
     "metadata": {},
     "output_type": "execute_result"
    }
   ],
   "source": [
    "#Average holding period (days)\n",
    "pnl['Days'].mean()"
   ]
  },
  {
   "cell_type": "code",
   "execution_count": 131,
   "metadata": {},
   "outputs": [
    {
     "data": {
      "text/plain": [
       "0.6944022770398481"
      ]
     },
     "execution_count": 131,
     "metadata": {},
     "output_type": "execute_result"
    }
   ],
   "source": [
    "#Mean PnL (%)\n",
    "pnl['PnL'].mean()"
   ]
  },
  {
   "cell_type": "markdown",
   "metadata": {},
   "source": [
    "Now let's calculate the batting average\n",
    "\n",
    "Why bother with the BA and the WL ratio?\n",
    "\n",
    "BA: the number of investments that have achieved a positive PnL, versus the total number of investments made. Similar to sports.\n",
    "\n",
    "WL ratio: the ratio between how well positions with a positive PnL performed, vs how badly positions with a negative PnL performeed, in average.\n",
    "\n",
    "BA is an indicator of a fund's research and investment analysis skills.\n",
    "WL ratio is an indicator of a fund's portfolio construction/management skills i.e. how it manages its winning and losing positiong.\n",
    "\n",
    "!Unlike most investment statistics, these can be meaningfully compared across strategies, asset classes, and funds.\n",
    "\n",
    "!Novus has found that BA and WL ratio are more persistent statistics than most others regarding a fund's performance profile, and they attribute this to their focus on the nature of the investment process itself. They explain this as most return analysis statistics are a function of returns, while the BA/WL are drivers of returns. As such, they are less dependant on exogenous factors than returns."
   ]
  },
  {
   "cell_type": "code",
   "execution_count": 132,
   "metadata": {},
   "outputs": [
    {
     "data": {
      "text/html": [
       "<div>\n",
       "<style>\n",
       "    .dataframe thead tr:only-child th {\n",
       "        text-align: right;\n",
       "    }\n",
       "\n",
       "    .dataframe thead th {\n",
       "        text-align: left;\n",
       "    }\n",
       "\n",
       "    .dataframe tbody tr th {\n",
       "        vertical-align: top;\n",
       "    }\n",
       "</style>\n",
       "<table border=\"1\" class=\"dataframe\">\n",
       "  <thead>\n",
       "    <tr style=\"text-align: right;\">\n",
       "      <th></th>\n",
       "      <th>Position</th>\n",
       "      <th>Start</th>\n",
       "      <th>End</th>\n",
       "      <th>Days</th>\n",
       "      <th>Side</th>\n",
       "      <th>price1</th>\n",
       "      <th>price2</th>\n",
       "      <th>PnL</th>\n",
       "      <th>alpha</th>\n",
       "      <th>pnl &gt; 0</th>\n",
       "    </tr>\n",
       "  </thead>\n",
       "  <tbody>\n",
       "    <tr>\n",
       "      <th>0</th>\n",
       "      <td>AALBERTS INDUSTRIES</td>\n",
       "      <td>2/19/16</td>\n",
       "      <td>6/16/16</td>\n",
       "      <td>82</td>\n",
       "      <td>1</td>\n",
       "      <td>31.9264</td>\n",
       "      <td>31.7362</td>\n",
       "      <td>0.60</td>\n",
       "      <td>5.998586</td>\n",
       "      <td>True</td>\n",
       "    </tr>\n",
       "    <tr>\n",
       "      <th>1</th>\n",
       "      <td>AALBERTS INDUSTRIES</td>\n",
       "      <td>6/23/16</td>\n",
       "      <td>7/6/16</td>\n",
       "      <td>9</td>\n",
       "      <td>1</td>\n",
       "      <td>28.8045</td>\n",
       "      <td>34.2914</td>\n",
       "      <td>-16.00</td>\n",
       "      <td>-12.186828</td>\n",
       "      <td>False</td>\n",
       "    </tr>\n",
       "    <tr>\n",
       "      <th>2</th>\n",
       "      <td>ABBOTT LABORATORIES CMN</td>\n",
       "      <td>6/28/16</td>\n",
       "      <td>9/12/16</td>\n",
       "      <td>53</td>\n",
       "      <td>1</td>\n",
       "      <td>41.4200</td>\n",
       "      <td>37.5600</td>\n",
       "      <td>10.28</td>\n",
       "      <td>10.097234</td>\n",
       "      <td>True</td>\n",
       "    </tr>\n",
       "    <tr>\n",
       "      <th>3</th>\n",
       "      <td>ACCENTURE PLC CMN</td>\n",
       "      <td>11/23/15</td>\n",
       "      <td>1/4/16</td>\n",
       "      <td>21</td>\n",
       "      <td>1</td>\n",
       "      <td>101.8300</td>\n",
       "      <td>107.8400</td>\n",
       "      <td>-5.57</td>\n",
       "      <td>-0.743019</td>\n",
       "      <td>False</td>\n",
       "    </tr>\n",
       "    <tr>\n",
       "      <th>4</th>\n",
       "      <td>ACS ACTIVIDADES DE CONST.Y SERVICIOS SA</td>\n",
       "      <td>1/4/16</td>\n",
       "      <td>2/24/16</td>\n",
       "      <td>37</td>\n",
       "      <td>-1</td>\n",
       "      <td>23.7335</td>\n",
       "      <td>27.9679</td>\n",
       "      <td>15.14</td>\n",
       "      <td>-0.695100</td>\n",
       "      <td>True</td>\n",
       "    </tr>\n",
       "  </tbody>\n",
       "</table>\n",
       "</div>"
      ],
      "text/plain": [
       "                                  Position     Start      End  Days  Side  \\\n",
       "0                      AALBERTS INDUSTRIES   2/19/16  6/16/16    82     1   \n",
       "1                      AALBERTS INDUSTRIES   6/23/16   7/6/16     9     1   \n",
       "2                  ABBOTT LABORATORIES CMN   6/28/16  9/12/16    53     1   \n",
       "3                        ACCENTURE PLC CMN  11/23/15   1/4/16    21     1   \n",
       "4  ACS ACTIVIDADES DE CONST.Y SERVICIOS SA    1/4/16  2/24/16    37    -1   \n",
       "\n",
       "     price1    price2    PnL      alpha pnl > 0  \n",
       "0   31.9264   31.7362   0.60   5.998586    True  \n",
       "1   28.8045   34.2914 -16.00 -12.186828   False  \n",
       "2   41.4200   37.5600  10.28  10.097234    True  \n",
       "3  101.8300  107.8400  -5.57  -0.743019   False  \n",
       "4   23.7335   27.9679  15.14  -0.695100    True  "
      ]
     },
     "execution_count": 132,
     "metadata": {},
     "output_type": "execute_result"
    }
   ],
   "source": [
    "def ba(x):\n",
    "    if x > 0:\n",
    "        return \"True\"\n",
    "    else:\n",
    "        return \"False\"\n",
    "pnl['pnl > 0'] = pnl['PnL'].apply(ba)\n",
    "pnl.head()"
   ]
  },
  {
   "cell_type": "code",
   "execution_count": 133,
   "metadata": {},
   "outputs": [
    {
     "data": {
      "text/plain": [
       "0.45351043643263755"
      ]
     },
     "execution_count": 133,
     "metadata": {},
     "output_type": "execute_result"
    }
   ],
   "source": [
    "batting_average = len(pnl[pnl['pnl > 0'] == \"True\"]) / len(pnl)\n",
    "batting_average"
   ]
  },
  {
   "cell_type": "code",
   "execution_count": 134,
   "metadata": {},
   "outputs": [],
   "source": [
    "#now let's get to W/L ratio\n",
    "def positive_pnl(x):\n",
    "    if x >= 0:\n",
    "        return x\n",
    "    else:\n",
    "        return 0\n",
    "def negative_pnl(x):\n",
    "    if x < 0:\n",
    "        return abs(x)\n",
    "    else:\n",
    "        return 0"
   ]
  },
  {
   "cell_type": "code",
   "execution_count": 135,
   "metadata": {},
   "outputs": [
    {
     "data": {
      "text/html": [
       "<div>\n",
       "<style>\n",
       "    .dataframe thead tr:only-child th {\n",
       "        text-align: right;\n",
       "    }\n",
       "\n",
       "    .dataframe thead th {\n",
       "        text-align: left;\n",
       "    }\n",
       "\n",
       "    .dataframe tbody tr th {\n",
       "        vertical-align: top;\n",
       "    }\n",
       "</style>\n",
       "<table border=\"1\" class=\"dataframe\">\n",
       "  <thead>\n",
       "    <tr style=\"text-align: right;\">\n",
       "      <th></th>\n",
       "      <th>Position</th>\n",
       "      <th>Start</th>\n",
       "      <th>End</th>\n",
       "      <th>Days</th>\n",
       "      <th>Side</th>\n",
       "      <th>price1</th>\n",
       "      <th>price2</th>\n",
       "      <th>PnL</th>\n",
       "      <th>alpha</th>\n",
       "      <th>pnl &gt; 0</th>\n",
       "      <th>positive_PnL</th>\n",
       "      <th>negative_PnL</th>\n",
       "    </tr>\n",
       "  </thead>\n",
       "  <tbody>\n",
       "    <tr>\n",
       "      <th>0</th>\n",
       "      <td>AALBERTS INDUSTRIES</td>\n",
       "      <td>2/19/16</td>\n",
       "      <td>6/16/16</td>\n",
       "      <td>82</td>\n",
       "      <td>1</td>\n",
       "      <td>31.9264</td>\n",
       "      <td>31.7362</td>\n",
       "      <td>0.60</td>\n",
       "      <td>5.998586</td>\n",
       "      <td>True</td>\n",
       "      <td>0.60</td>\n",
       "      <td>0.00</td>\n",
       "    </tr>\n",
       "    <tr>\n",
       "      <th>1</th>\n",
       "      <td>AALBERTS INDUSTRIES</td>\n",
       "      <td>6/23/16</td>\n",
       "      <td>7/6/16</td>\n",
       "      <td>9</td>\n",
       "      <td>1</td>\n",
       "      <td>28.8045</td>\n",
       "      <td>34.2914</td>\n",
       "      <td>-16.00</td>\n",
       "      <td>-12.186828</td>\n",
       "      <td>False</td>\n",
       "      <td>0.00</td>\n",
       "      <td>16.00</td>\n",
       "    </tr>\n",
       "    <tr>\n",
       "      <th>2</th>\n",
       "      <td>ABBOTT LABORATORIES CMN</td>\n",
       "      <td>6/28/16</td>\n",
       "      <td>9/12/16</td>\n",
       "      <td>53</td>\n",
       "      <td>1</td>\n",
       "      <td>41.4200</td>\n",
       "      <td>37.5600</td>\n",
       "      <td>10.28</td>\n",
       "      <td>10.097234</td>\n",
       "      <td>True</td>\n",
       "      <td>10.28</td>\n",
       "      <td>0.00</td>\n",
       "    </tr>\n",
       "    <tr>\n",
       "      <th>3</th>\n",
       "      <td>ACCENTURE PLC CMN</td>\n",
       "      <td>11/23/15</td>\n",
       "      <td>1/4/16</td>\n",
       "      <td>21</td>\n",
       "      <td>1</td>\n",
       "      <td>101.8300</td>\n",
       "      <td>107.8400</td>\n",
       "      <td>-5.57</td>\n",
       "      <td>-0.743019</td>\n",
       "      <td>False</td>\n",
       "      <td>0.00</td>\n",
       "      <td>5.57</td>\n",
       "    </tr>\n",
       "    <tr>\n",
       "      <th>4</th>\n",
       "      <td>ACS ACTIVIDADES DE CONST.Y SERVICIOS SA</td>\n",
       "      <td>1/4/16</td>\n",
       "      <td>2/24/16</td>\n",
       "      <td>37</td>\n",
       "      <td>-1</td>\n",
       "      <td>23.7335</td>\n",
       "      <td>27.9679</td>\n",
       "      <td>15.14</td>\n",
       "      <td>-0.695100</td>\n",
       "      <td>True</td>\n",
       "      <td>15.14</td>\n",
       "      <td>0.00</td>\n",
       "    </tr>\n",
       "  </tbody>\n",
       "</table>\n",
       "</div>"
      ],
      "text/plain": [
       "                                  Position     Start      End  Days  Side  \\\n",
       "0                      AALBERTS INDUSTRIES   2/19/16  6/16/16    82     1   \n",
       "1                      AALBERTS INDUSTRIES   6/23/16   7/6/16     9     1   \n",
       "2                  ABBOTT LABORATORIES CMN   6/28/16  9/12/16    53     1   \n",
       "3                        ACCENTURE PLC CMN  11/23/15   1/4/16    21     1   \n",
       "4  ACS ACTIVIDADES DE CONST.Y SERVICIOS SA    1/4/16  2/24/16    37    -1   \n",
       "\n",
       "     price1    price2    PnL      alpha pnl > 0  positive_PnL  negative_PnL  \n",
       "0   31.9264   31.7362   0.60   5.998586    True          0.60          0.00  \n",
       "1   28.8045   34.2914 -16.00 -12.186828   False          0.00         16.00  \n",
       "2   41.4200   37.5600  10.28  10.097234    True         10.28          0.00  \n",
       "3  101.8300  107.8400  -5.57  -0.743019   False          0.00          5.57  \n",
       "4   23.7335   27.9679  15.14  -0.695100    True         15.14          0.00  "
      ]
     },
     "execution_count": 135,
     "metadata": {},
     "output_type": "execute_result"
    }
   ],
   "source": [
    "pnl['positive_PnL'] = pnl['PnL'].apply(positive_pnl)\n",
    "pnl['negative_PnL'] = pnl['PnL'].apply(negative_pnl)\n",
    "pnl.head()"
   ]
  },
  {
   "cell_type": "code",
   "execution_count": 136,
   "metadata": {},
   "outputs": [
    {
     "data": {
      "text/plain": [
       "1.2316359148020364"
      ]
     },
     "execution_count": 136,
     "metadata": {},
     "output_type": "execute_result"
    }
   ],
   "source": [
    "win_loss_ratio = pnl['positive_PnL'].mean() / pnl['negative_PnL'].mean()\n",
    "win_loss_ratio"
   ]
  },
  {
   "cell_type": "markdown",
   "metadata": {},
   "source": [
    "## Performance attribution\n",
    "\n",
    "> \"Quantification of the sources of fund, benchmark, and benchmark relative value added.\"\n",
    "\n",
    "> Bruce Feibel\n",
    "\n",
    "■ What was the manager's relative skill in selecting securities?\n",
    "\n",
    "■ What was the manager's relative skill in selecting market segments?\n",
    "\n",
    "■ How was the manager correlated to the different investment styles?\n",
    "\n",
    "Main methods used:\n",
    "\n",
    "1. Style attribution\n",
    "A decomposition based on active risk factor exposures. Typical model: Fama-French framework, value, momentum, size, market.\n",
    "2. Return decomposition\n",
    "A decomposition based on active weights. Many flavors, but typical one includes security selection, allocation, and interaction.\n",
    "\n",
    "In what cases should you use one over the other?"
   ]
  },
  {
   "cell_type": "markdown",
   "metadata": {},
   "source": [
    "A brief overview of Brinson attribution\n",
    "BHB vs BF models."
   ]
  },
  {
   "cell_type": "markdown",
   "metadata": {},
   "source": [
    "Style attribution data:\n",
    "    \n",
    "http://us.spindices.com/indices/equity/sp-500-value"
   ]
  },
  {
   "cell_type": "code",
   "execution_count": 87,
   "metadata": {},
   "outputs": [
    {
     "data": {
      "text/html": [
       "<div>\n",
       "<table border=\"1\" class=\"dataframe\">\n",
       "  <thead>\n",
       "    <tr style=\"text-align: right;\">\n",
       "      <th></th>\n",
       "      <th>Sector</th>\n",
       "      <th>Net Port Weight%</th>\n",
       "      <th>Bench Weight%</th>\n",
       "      <th>Bench Sector Weight</th>\n",
       "      <th>Bench Sector Return</th>\n",
       "      <th>Portfolio Sector Weight (Long)%</th>\n",
       "      <th>Portfolio Sector Weight (Short)%</th>\n",
       "      <th>Porfolio Return Long</th>\n",
       "      <th>Portfolio Return Short</th>\n",
       "    </tr>\n",
       "  </thead>\n",
       "  <tbody>\n",
       "    <tr>\n",
       "      <th>0</th>\n",
       "      <td>Consumer Discretionary</td>\n",
       "      <td>2.33</td>\n",
       "      <td>12.15</td>\n",
       "      <td>12.1461</td>\n",
       "      <td>0.0049</td>\n",
       "      <td>14.6369</td>\n",
       "      <td>-12.3063</td>\n",
       "      <td>-0.0040</td>\n",
       "      <td>0.0023</td>\n",
       "    </tr>\n",
       "    <tr>\n",
       "      <th>1</th>\n",
       "      <td>Consumer Staples</td>\n",
       "      <td>0.56</td>\n",
       "      <td>9.33</td>\n",
       "      <td>9.3314</td>\n",
       "      <td>0.0019</td>\n",
       "      <td>2.1062</td>\n",
       "      <td>-1.5497</td>\n",
       "      <td>0.0056</td>\n",
       "      <td>0.0050</td>\n",
       "    </tr>\n",
       "    <tr>\n",
       "      <th>2</th>\n",
       "      <td>Energy</td>\n",
       "      <td>1.63</td>\n",
       "      <td>5.88</td>\n",
       "      <td>5.8823</td>\n",
       "      <td>0.0055</td>\n",
       "      <td>1.6256</td>\n",
       "      <td>0.0000</td>\n",
       "      <td>-0.0010</td>\n",
       "      <td>0.0000</td>\n",
       "    </tr>\n",
       "    <tr>\n",
       "      <th>3</th>\n",
       "      <td>Financials</td>\n",
       "      <td>11.32</td>\n",
       "      <td>18.00</td>\n",
       "      <td>18.0013</td>\n",
       "      <td>0.0036</td>\n",
       "      <td>11.3228</td>\n",
       "      <td>0.0000</td>\n",
       "      <td>0.0035</td>\n",
       "      <td>0.0000</td>\n",
       "    </tr>\n",
       "    <tr>\n",
       "      <th>4</th>\n",
       "      <td>Health Care</td>\n",
       "      <td>0.11</td>\n",
       "      <td>12.29</td>\n",
       "      <td>12.2863</td>\n",
       "      <td>0.0152</td>\n",
       "      <td>3.3389</td>\n",
       "      <td>-3.2260</td>\n",
       "      <td>0.0200</td>\n",
       "      <td>0.0148</td>\n",
       "    </tr>\n",
       "  </tbody>\n",
       "</table>\n",
       "</div>"
      ],
      "text/plain": [
       "                   Sector  Net Port Weight%  Bench Weight%  \\\n",
       "0  Consumer Discretionary              2.33          12.15   \n",
       "1        Consumer Staples              0.56           9.33   \n",
       "2                  Energy              1.63           5.88   \n",
       "3              Financials             11.32          18.00   \n",
       "4             Health Care              0.11          12.29   \n",
       "\n",
       "   Bench Sector Weight  Bench Sector Return  Portfolio Sector Weight (Long)%  \\\n",
       "0              12.1461               0.0049                          14.6369   \n",
       "1               9.3314               0.0019                           2.1062   \n",
       "2               5.8823               0.0055                           1.6256   \n",
       "3              18.0013               0.0036                          11.3228   \n",
       "4              12.2863               0.0152                           3.3389   \n",
       "\n",
       "   Portfolio Sector Weight (Short)%  Porfolio Return Long  \\\n",
       "0                          -12.3063               -0.0040   \n",
       "1                           -1.5497                0.0056   \n",
       "2                            0.0000               -0.0010   \n",
       "3                            0.0000                0.0035   \n",
       "4                           -3.2260                0.0200   \n",
       "\n",
       "   Portfolio Return Short  \n",
       "0                  0.0023  \n",
       "1                  0.0050  \n",
       "2                  0.0000  \n",
       "3                  0.0000  \n",
       "4                  0.0148  "
      ]
     },
     "execution_count": 87,
     "metadata": {},
     "output_type": "execute_result"
    }
   ],
   "source": [
    "brinson = pd.read_csv('brinson_attribution.csv')\n",
    "brinson.head(5)"
   ]
  },
  {
   "cell_type": "code",
   "execution_count": 88,
   "metadata": {},
   "outputs": [
    {
     "data": {
      "text/plain": [
       "0     0.132022\n",
       "1     0.006946\n",
       "2     0.008941\n",
       "3     0.040762\n",
       "4     0.099786\n",
       "5     0.056452\n",
       "6     0.099488\n",
       "7     0.055401\n",
       "8     0.030201\n",
       "9     0.000000\n",
       "10    0.026531\n",
       "Name: allocation, dtype: float64"
      ]
     },
     "execution_count": 88,
     "metadata": {},
     "output_type": "execute_result"
    }
   ],
   "source": [
    "brinson['allocation_long'] = (brinson['Portfolio Sector Weight (Long)%'] - brinson['Bench Weight%']) * brinson['Bench Sector Return']\n",
    "brinson['allocation_short'] = (brinson['Portfolio Sector Weight (Short)%'] - brinson['Bench Weight%']) * brinson['Bench Sector Return']\n",
    "brinson['allocation'] = brinson['allocation_long'] - brinson['allocation_short']\n",
    "brinson['allocation']"
   ]
  },
  {
   "cell_type": "code",
   "execution_count": 89,
   "metadata": {},
   "outputs": [
    {
     "data": {
      "text/plain": [
       "0    -0.076545\n",
       "1     0.005598\n",
       "2    -0.005880\n",
       "3     0.063000\n",
       "4     0.063908\n",
       "5     0.038556\n",
       "6     0.170448\n",
       "7    -0.002535\n",
       "8     0.011951\n",
       "9     0.000000\n",
       "10    0.003310\n",
       "Name: selection, dtype: float64"
      ]
     },
     "execution_count": 89,
     "metadata": {},
     "output_type": "execute_result"
    }
   ],
   "source": [
    "brinson['selection_long'] = (brinson['Porfolio Return Long'] - brinson['Bench Sector Return']) * brinson['Bench Weight%']\n",
    "brinson['selection_short'] = (brinson['Portfolio Return Short'] - brinson['Bench Sector Return']) * brinson['Bench Weight%']\n",
    "brinson['selection'] = brinson['selection_long'] - brinson['selection_short']\n",
    "brinson['selection']"
   ]
  },
  {
   "cell_type": "code",
   "execution_count": 90,
   "metadata": {},
   "outputs": [
    {
     "data": {
      "text/plain": [
       "0    -0.085720\n",
       "1     0.006999\n",
       "2    -0.004686\n",
       "3    -0.064132\n",
       "4    -0.049172\n",
       "5    -0.061335\n",
       "6    -0.129326\n",
       "7    -0.056834\n",
       "8    -0.024415\n",
       "9     0.000000\n",
       "10   -0.016575\n",
       "Name: interaction, dtype: float64"
      ]
     },
     "execution_count": 90,
     "metadata": {},
     "output_type": "execute_result"
    }
   ],
   "source": [
    "brinson['interaction_long'] = (brinson['Portfolio Sector Weight (Long)%'] - brinson['Bench Weight%'])*(brinson['Porfolio Return Long'] - brinson['Bench Sector Return'])\n",
    "brinson['interaction_short'] = (brinson['Portfolio Sector Weight (Short)%'] - brinson['Bench Weight%'])*(brinson['Portfolio Return Short'] - brinson['Bench Sector Return'])\n",
    "brinson['interaction'] = brinson['interaction_long'] - brinson['interaction_short']\n",
    "brinson['interaction']"
   ]
  },
  {
   "cell_type": "markdown",
   "metadata": {},
   "source": [
    "A couple of comments on attribution:\n",
    "\n",
    "1. Attribution needs to match the manager style i.e. top down vs bottom up\n",
    "2. BHB vs BF\n",
    "3. Interaction effect remains elusive to interpret"
   ]
  },
  {
   "cell_type": "markdown",
   "metadata": {},
   "source": [
    "Other measures:\n",
    "\n",
    "Uniqueness\n",
    "\n",
    "Overlap\n",
    "\n",
    "Leverage\n",
    "\n",
    "VaR"
   ]
  },
  {
   "cell_type": "markdown",
   "metadata": {
    "collapsed": true
   },
   "source": [
    "## To be continued - backtests"
   ]
  },
  {
   "cell_type": "markdown",
   "metadata": {},
   "source": [
    "## Most common mistakes in risk analytics\n",
    "\n",
    "Not understanding the units of a measure\n",
    "\n",
    "Not understanding the period of a measure\n",
    "\n",
    "Not understanding the concept behind a measure"
   ]
  },
  {
   "cell_type": "markdown",
   "metadata": {
    "collapsed": true
   },
   "source": [
    "## Bibliography and references\n",
    "\n",
    "Adrian, Tobias, Markus Brunnermeier, and Hoai-Luu Nguyen. \"Hedge Fund Tail Risk.\" (n.d.): n. pag. Web.\n",
    "\n",
    "Altshuller, Stan. How to Analyze Manager Skill with Limited Transparency. Rep. Novus. N.p.: n.p., 2016. Print.\n",
    "\n",
    "Altshuller, Stan. Which Hedge FundsAreWorth the High Fees? Which Hedge Funds Are Worth the High Fees?\n",
    "\n",
    "Angelini, Luca, and Andrea Gentilini. Batting Average and Win-Loss Ratio Applications. 2015, Batting Average and Win-Loss Ratio Applications.\n",
    "\n",
    "Bailey, David & Lopez de Prado, Marcos. (2014). The Deflated Sharpe Ratio: Correcting for Selection Bias, Backtest Overfitting, and Non-Normality. The Journal of Portfolio Management. 40. 94-107. 10.3905/jpm.2014.40.5.094.\n",
    "\n",
    "Brinson, Gary P., L. Randolph Hood, and Gilbert L. Beebower. \"Determinants of Portfolio Performance.\" Financial Analysts Journal 51.1 (1995): 133-38. Web.\n",
    "\n",
    "DiBartolomeo, Dan. “Evaluating Active Manager Skill.” Oct. 2014, Webinar, Webinar.\n",
    "\n",
    "Eling M., Schuhmacher F. (2006) Performance Measurement of Hedge Fund Indices - Does the Measure Matter?. In: Haasis HD., Kopfer H., Schönberger J. (eds) Operations Research Proceedings 2005. Operations Research Proceedings, vol 2005. Springer, Berlin, Heidelberg\n",
    "\n",
    "Equity Performance Attribution. Rep. Morningstar. N.p.: Morningstar, 2011. Print.\n",
    "\n",
    "Erickson, Darrin. Interpreting Performance Attribution. Rep. CFA Institute. N.p.: CFA Institute, 2011. Print.\n",
    "\n",
    "Favre, Laurent, and Jose-Antonio Galeano. An Analysis of Hedge Fund Performance Using Loess Fit Regression. Tech. EDHEC Business School. N.p.: n.p., 2002. Print.\n",
    "\n",
    "Feibel, Bruce J. Investment Performance Measurement. N.p.: John Wiley & Sons, 2003. Print.\n",
    "\n",
    "Ferson, Wayne. Investment Performance Evaluation. Working paper no. CenFIS Working Paper 10-01. N.p.: Federal Reserve Bank of Atlanta, 2010. Print.\n",
    "\n",
    "Gehin, Walter. A Survey of the Literature on Hedge Fund Performance. Rep. A Survey of the Literature on Hedge Fund Performance. N.p.: n.p., 2004. Print.\n",
    "\n",
    "Gentilini, Andrea, and Stan Altshuller. Your Investment Decisions Are Based on the Wrong Metrics. 2015, Your Investment Decisions Are Based on the Wrong Metrics.\n",
    "\n",
    "Heydt, Michael. Mastering Pandas for Finance. N.p.: Packt Limited, 2015. Print.\n",
    "\n",
    "Hilton, Max. RiskMonitor Glossary. Rep. RiskMonitor Clarus Risk. N.p.: Clarus Risk, 2016. Print.\n",
    "\n",
    "Illmer, Stefan. \"Overview of Performance Attribution.\" N/A. Apr. 2010. Web.\n",
    "\n",
    "Investment Performance, Analytics and Risk - Glossary of Terms. Rep. J.P. Morgan. N.p.: n.p., 2008. Print.\n",
    "\n",
    "Investment Statistics Guide. Rep. Evestment. N.p.: n.p., n.d. Print.\n",
    "\n",
    "Kidd, Deborah. Risk-Adjusted Performance Measures: A Case Study. Rep. CFA Institute. N.p.: CFA Institute, 2012. Print.\n",
    "\n",
    "Ledoit, Oliver, and Michael Wolf. \"Robust Performance Hypothesis Testing with the Sharpe Ratio.\" Journal of Empirical Finance 15.5 (2008): 850-59. Web.\n",
    "\n",
    "Leerink, Bas, and Gerard Van Breukelen. Multi-Period Performance Attribution. Working paper no. Applied Paper No. 2015-01. Ortec Finance. N.p.: Ortec Finance Research Center, 2015. Print.\n",
    "\n",
    "Lo, Andrew. Where Do Alphas Come From?: A New Measure of the Value of Active Investment Management. Rep. MIT. N.p.: n.p., 2007. Web.\n",
    "\n",
    "Marty, Wolfgang. Portfolio Analytics: An Introduction to Return and Risk Measurement. N.p.: Springer International, 2013. Print.\n",
    "\n",
    "Petajisto, Antti. \"Active Share and Mutual Fund Performance.\" CFA Institute Event. 28 Oct. 2013. Lecture.\n",
    "\n",
    "Ryan, Timothy. Time Matters in Performance Analysis. Rep. CFA Institute. N.p.: CFA Institute, 2010. Print.\n",
    "\n",
    "Securing Investment Returns in the Long Run - GFRI teaching team at the University of Geneva\n",
    "https://www.coursera.org/learn/investment-returns-long-run/lecture/g5VrE/performance-attribution-example\n",
    "[on performance attribution]\n",
    "\n",
    "The Journal of Performance Measurement: http://www.spauldinggrp.com/the-journal/\n",
    "\n",
    "Till, Hillary. Measuring Risk-Adjusted Returns in Alternative Investments. Rep. EDHEC Business School. N.p.: n.p., 2006. Print.\n",
    "\n",
    "Yuen, Raymond. \"WORKSHOP FOR USING EXCEL FOR FINANCE PART 6.\" Web."
   ]
  },
  {
   "cell_type": "markdown",
   "metadata": {
    "collapsed": true
   },
   "source": [
    "## Thanks to:\n",
    "[none of these individuals have reviewed the present work, yet all taught me more than I can describe here]\n",
    "\n",
    "Pr. Wicher Bergsma, LSE\n",
    "\n",
    "Pr. Roy Henk, Kyoto University\n",
    "\n",
    "Pr. Marco Cuturi, ENSAE\n",
    "\n",
    "Raymond Yuen, who kindly shared some of his work with me and whose tutorials I highly recommend\n",
    "\n",
    "Con Keating, who kindly authorised me to share some of his terrific work\n",
    "\n",
    "Max Hilton and the entire team at Clarus Risk, which have built a premier investment analytics and risk firm, and who provide independent risk analytics on our own funds:\n",
    "info@clarusrisk.com"
   ]
  },
  {
   "cell_type": "markdown",
   "metadata": {
    "collapsed": true
   },
   "source": [
    "## Legal disclaimer:\n",
    "This tutorial reflects purely and solely my own personal opinions.\n",
    "Empiric Capital and its affiliated companies have had no input to this tutorial.\n",
    "Recipients should form their own assessment and take independent professional advice on the merits of investing in general and the legal, regulatory, tax and investment consequences and risks of so doing. In preparing this document, the author has relied upon and assumed, without independent verification, the accuracy and completeness of all information available from public sources or which was otherwise used in the preparation of this document. The author accepts no responsibility to any person for the consequences of any person placing reliance on the content of this document for any purpose.\n",
    "No part of this tutorial is to be understood or used as investment advice."
   ]
  },
  {
   "cell_type": "code",
   "execution_count": null,
   "metadata": {
    "collapsed": true
   },
   "outputs": [],
   "source": []
  },
  {
   "cell_type": "code",
   "execution_count": null,
   "metadata": {
    "collapsed": true
   },
   "outputs": [],
   "source": []
  }
 ],
 "metadata": {
  "kernelspec": {
   "display_name": "Python 3",
   "language": "python",
   "name": "python3"
  },
  "language_info": {
   "codemirror_mode": {
    "name": "ipython",
    "version": 3
   },
   "file_extension": ".py",
   "mimetype": "text/x-python",
   "name": "python",
   "nbconvert_exporter": "python",
   "pygments_lexer": "ipython3",
   "version": "3.6.3"
  }
 },
 "nbformat": 4,
 "nbformat_minor": 2
}
